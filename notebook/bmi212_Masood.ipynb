{
 "cells": [
  {
   "cell_type": "code",
   "execution_count": 1,
   "metadata": {
    "collapsed": true
   },
   "outputs": [],
   "source": [
    "%load_ext rpy2.ipython"
   ]
  },
  {
   "cell_type": "code",
   "execution_count": 9,
   "metadata": {
    "collapsed": true
   },
   "outputs": [],
   "source": [
    "import collections\n",
    "import os\n",
    "import os.path\n",
    "import re\n",
    "import sys\n",
    "import webbrowser\n",
    "import zipfile\n",
    "\n",
    "import fuzzywuzzy\n",
    "import pandas as pd\n",
    "import numpy as np\n",
    "import scipy as sp\n",
    "import matplotlib.pyplot as plt\n",
    "import sas7bdat"
   ]
  },
  {
   "cell_type": "code",
   "execution_count": 10,
   "metadata": {
    "scrolled": true
   },
   "outputs": [
    {
     "data": {
      "text/plain": [
       "True"
      ]
     },
     "execution_count": 10,
     "metadata": {},
     "output_type": "execute_result"
    }
   ],
   "source": [
    "# Open WHI data variable browser.\n",
    "webbrowser.open('https://www.whi.org/researchers/data/SitePages/SAS%20Variables.aspx', new=1, autoraise=True)"
   ]
  },
  {
   "cell_type": "code",
   "execution_count": 11,
   "metadata": {},
   "outputs": [
    {
     "ename": "ModuleNotFoundError",
     "evalue": "No module named 'whi'",
     "output_type": "error",
     "traceback": [
      "\u001b[0;31m---------------------------------------------------------------------------\u001b[0m",
      "\u001b[0;31mModuleNotFoundError\u001b[0m                       Traceback (most recent call last)",
      "\u001b[0;32m<ipython-input-11-ae9a032ee3be>\u001b[0m in \u001b[0;36m<module>\u001b[0;34m()\u001b[0m\n\u001b[0;32m----> 1\u001b[0;31m \u001b[0;32mimport\u001b[0m \u001b[0mwhi\u001b[0m\u001b[0;34m\u001b[0m\u001b[0m\n\u001b[0m",
      "\u001b[0;31mModuleNotFoundError\u001b[0m: No module named 'whi'"
     ]
    }
   ],
   "source": [
    "import whi"
   ]
  },
  {
   "cell_type": "code",
   "execution_count": 5,
   "metadata": {
    "scrolled": true
   },
   "outputs": [
    {
     "name": "stderr",
     "output_type": "stream",
     "text": [
      "/usr/lib/python3.6/site-packages/IPython/core/interactiveshell.py:2717: DtypeWarning: Columns (73,171,348,422,442,446,447,547,549,612,613,620,647,680,685,728,748,828) have mixed types. Specify dtype option on import or set low_memory=False.\n",
      "  interactivity=interactivity, compiler=compiler, result=result)\n"
     ]
    },
    {
     "name": "stdout",
     "output_type": "stream",
     "text": [
      "WARNING *** OLE2 inconsistency: SSCS size is 0 but SSAT size is non-zero\n"
     ]
    }
   ],
   "source": [
    "whi = whi.extract_whi('./WHI')\n",
    "glaucomawhise2 = pd.read_csv('glaucomawhise2.csv', encoding='latin1')\n",
    "whise = pd.read_excel('WHISE.xls')\n",
    "whise.rename(columns={'COMMON_ID': 'ID'}, inplace=True)"
   ]
  },
  {
   "cell_type": "code",
   "execution_count": 6,
   "metadata": {
    "collapsed": true
   },
   "outputs": [],
   "source": [
    "# Scratch space for columns that we know about\n",
    "neurodegenerative = [\n",
    "    disease + '_' + str(i) for disease in [\n",
    "        'ALZHEIM', 'PARKINS', 'MS', 'ALS',\n",
    "    ] for i in [3, 4, 5, 6, 7, 8]\n",
    "]"
   ]
  },
  {
   "cell_type": "code",
   "execution_count": 7,
   "metadata": {
    "scrolled": false
   },
   "outputs": [
    {
     "data": {
      "text/plain": [
       "{('\"Diabetes', 'f2_ctos_inv'): ('DIABTRT',\n",
       "  '\"Diabetes treated (pills or  shots)\";\\r'),\n",
       " ('\"Diabetes', 'f301_whills_inv'): ('DIABMEDS', '\"Diabetes meds taken\"'),\n",
       " ('\"Diabetes', 'spec_draws_ctos_inv'): ('DIABMEDS', '\"Diabetes meds taken\"'),\n",
       " ('Diabetes', 'dbgap_availability_inv'): ('GARNET_T2D_CASE',\n",
       "  '\"Type 2 Diabetes case/control status for GARNET (M13)\"'),\n",
       " ('Diabetes', 'outc_self_cad_inv'): ('F33DIABDIETEXDY',\n",
       "  '\"Days enrollment to F33 Diabetes Exercise\"'),\n",
       " ('Diabetes', 'outc_self_ctos_inv'): ('F33DIABPILLSDY',\n",
       "  '\"Days enrollment to F33 Diabetes Pills\"'),\n",
       " ('Diabetes', 'outc_self_x2_mrc_inv'): ('F33DIABDIEXDY',\n",
       "  '\"Days enrollment to Diabetes Diet and/or Exercise\"'),\n",
       " ('Diabetes', 'outc_self_x2_src_inv'): ('F33DIABDIEXDY',\n",
       "  '\"Days enrollment to Diabetes Diet and/or Exercise\"'),\n",
       " ('Diabetes\"', 'outc_self_cad_inv'): ('F33DIABDIETEX',\n",
       "  '\"F33 Diet and/or Exercise for Diabetes\"'),\n",
       " ('Diabetes\"', 'outc_self_ctos_inv'): ('F33DIABDIETEXDY',\n",
       "  '\"Days enrollment to F33 Diet/Exercise for Diabetes\"'),\n",
       " ('diabetes', 'f2_ctos_inv'): ('DIABPILL', '\"Pills for diabetes ever\"'),\n",
       " ('diabetes\"', 'f2_ctos_inv'): ('DBDIETF2', '\"Special diet for diabetes\"'),\n",
       " ('diabetes\"', 'f32_ctos_inv'): ('DIABRELN',\n",
       "  '\"Number of relatives had adult diabetes\"'),\n",
       " ('diabetes\"', 'unc_hf_inv'): ('DIABHX', '\"F136 History of diabetes\"')}"
      ]
     },
     "execution_count": 7,
     "metadata": {},
     "output_type": "execute_result"
    }
   ],
   "source": [
    "whi.search_column_descs('diabetes', 5)"
   ]
  },
  {
   "cell_type": "code",
   "execution_count": 8,
   "metadata": {},
   "outputs": [
    {
     "data": {
      "text/plain": [
       "'./WHI/Specimen Results/dbgap_availability_inv.zip'"
      ]
     },
     "execution_count": 8,
     "metadata": {},
     "output_type": "execute_result"
    }
   ],
   "source": [
    "whi.data['dbgap_availability_inv'].zipfile"
   ]
  },
  {
   "cell_type": "code",
   "execution_count": null,
   "metadata": {
    "collapsed": true
   },
   "outputs": [],
   "source": []
  }
 ],
 "metadata": {
  "kernelspec": {
   "display_name": "Python 3",
   "language": "python",
   "name": "python3"
  },
  "language_info": {
   "codemirror_mode": {
    "name": "ipython",
    "version": 3
   },
   "file_extension": ".py",
   "mimetype": "text/x-python",
   "name": "python",
   "nbconvert_exporter": "python",
   "pygments_lexer": "ipython3",
   "version": "3.6.1"
  }
 },
 "nbformat": 4,
 "nbformat_minor": 2
}
