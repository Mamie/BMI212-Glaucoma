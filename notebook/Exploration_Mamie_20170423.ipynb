{
 "cells": [
  {
   "cell_type": "markdown",
   "metadata": {},
   "source": [
    "# Exploration of WHISE data"
   ]
  },
  {
   "cell_type": "code",
   "execution_count": 1,
   "metadata": {
    "collapsed": true
   },
   "outputs": [],
   "source": [
    "WHISE <- read.csv('data/WHISE.csv', header=T, stringsAsFactor=F)"
   ]
  },
  {
   "cell_type": "code",
   "execution_count": 2,
   "metadata": {
    "collapsed": false
   },
   "outputs": [
    {
     "data": {
      "text/html": [
       "<ol class=list-inline>\n",
       "\t<li>4347</li>\n",
       "\t<li>192</li>\n",
       "</ol>\n"
      ],
      "text/latex": [
       "\\begin{enumerate*}\n",
       "\\item 4347\n",
       "\\item 192\n",
       "\\end{enumerate*}\n"
      ],
      "text/markdown": [
       "1. 4347\n",
       "2. 192\n",
       "\n",
       "\n"
      ],
      "text/plain": [
       "[1] 4347  192"
      ]
     },
     "metadata": {},
     "output_type": "display_data"
    }
   ],
   "source": [
    "dim(WHISE)"
   ]
  },
  {
   "cell_type": "code",
   "execution_count": 4,
   "metadata": {
    "collapsed": false
   },
   "outputs": [
    {
     "data": {
      "text/plain": [
       "     IDc               photos_l     pathology_reason_l photo_quality_l\n",
       " Length:4347        Min.   :0.000   Min.   : 0.0000    Min.   :0.000  \n",
       " Class :character   1st Qu.:3.000   1st Qu.: 0.0000    1st Qu.:0.000  \n",
       " Mode  :character   Median :3.000   Median : 0.0000    Median :1.000  \n",
       "                    Mean   :3.301   Mean   : 0.6307    Mean   :1.626  \n",
       "                    3rd Qu.:3.000   3rd Qu.: 0.0000    3rd Qu.:4.000  \n",
       "                    Max.   :7.000   Max.   :99.0000    Max.   :9.000  \n",
       "                                    NA's   :96                        \n",
       " photo_quality_focus_l   PQ_field_l     PQ_Stereo_l      PQ_Other_l  \n",
       " Min.   :0.000         Min.   :0.000   Min.   :0.000   Min.   :0.00  \n",
       " 1st Qu.:0.000         1st Qu.:0.000   1st Qu.:0.000   1st Qu.:0.00  \n",
       " Median :1.000         Median :0.000   Median :0.000   Median :0.00  \n",
       " Mean   :1.552         Mean   :1.499   Mean   :1.411   Mean   :1.57  \n",
       " 3rd Qu.:4.000         3rd Qu.:4.000   3rd Qu.:4.000   3rd Qu.:4.00  \n",
       " Max.   :9.000         Max.   :9.000   Max.   :9.000   Max.   :9.00  \n",
       "                                                                     \n",
       " exclude_prelim_l  drusen_size_l   drusen_type_l   drusen_area_l  \n",
       " Min.   : 0.0000   Min.   :0.000   Min.   :0.000   Min.   :0.000  \n",
       " 1st Qu.: 0.0000   1st Qu.:2.000   1st Qu.:2.000   1st Qu.:1.000  \n",
       " Median : 0.0000   Median :2.000   Median :2.000   Median :2.000  \n",
       " Mean   : 0.1228   Mean   :2.195   Mean   :1.956   Mean   :2.134  \n",
       " 3rd Qu.: 0.0000   3rd Qu.:3.000   3rd Qu.:2.000   3rd Qu.:3.000  \n",
       " Max.   :15.0000   Max.   :6.000   Max.   :4.000   Max.   :7.000  \n",
       " NA's   :6         NA's   :172     NA's   :172     NA's   :172    \n",
       " rpe_depigmentation_l increased_pigment_l geographic_atrophy_l\n",
       " Min.   :0.0000       Min.   :0.0000      Min.   :0.000       \n",
       " 1st Qu.:0.0000       1st Qu.:0.0000      1st Qu.:0.000       \n",
       " Median :0.0000       Median :0.0000      Median :0.000       \n",
       " Mean   :0.3922       Mean   :0.5689      Mean   :0.231       \n",
       " 3rd Qu.:0.0000       3rd Qu.:0.0000      3rd Qu.:0.000       \n",
       " Max.   :9.0000       Max.   :9.0000      Max.   :9.000       \n",
       "                                                              \n",
       " disc_area_of_GA_l    PED_RD_l      subretinal_hemorrhage_l subretinal_scar_l\n",
       " Min.   :0.00000   Min.   :0.0000   Min.   :0.000           Min.   :0.0000   \n",
       " 1st Qu.:0.00000   1st Qu.:0.0000   1st Qu.:0.000           1st Qu.:0.0000   \n",
       " Median :0.00000   Median :0.0000   Median :0.000           Median :0.0000   \n",
       " Mean   :0.00828   Mean   :0.2457   Mean   :0.228           Mean   :0.2291   \n",
       " 3rd Qu.:0.00000   3rd Qu.:0.0000   3rd Qu.:0.000           3rd Qu.:0.0000   \n",
       " Max.   :8.00000   Max.   :9.0000   Max.   :9.000           Max.   :9.0000   \n",
       " NA's   :120                                                                 \n",
       " disc_area_of_exudative_lesions_l    arm_rx_l      arm_severity_l  \n",
       " Min.   :0.0000                   Min.   :0.0000   Min.   :0.0000  \n",
       " 1st Qu.:0.0000                   1st Qu.:0.0000   1st Qu.:0.0000  \n",
       " Median :0.0000                   Median :0.0000   Median :0.0000  \n",
       " Mean   :0.0175                   Mean   :0.2243   Mean   :0.4171  \n",
       " 3rd Qu.:0.0000                   3rd Qu.:0.0000   3rd Qu.:0.0000  \n",
       " Max.   :9.0000                   Max.   :9.0000   Max.   :9.0000  \n",
       " NA's   :119                                                       \n",
       " diabetic_retinopathy_level_l   a_v_nick_l       arm_late_l    \n",
       " Min.   :10.00                Min.   :0.0000   Min.   :0.0000  \n",
       " 1st Qu.:10.00                1st Qu.:0.0000   1st Qu.:0.0000  \n",
       " Median :10.00                Median :0.0000   Median :0.0000  \n",
       " Mean   :11.95                Mean   :0.4921   Mean   :0.2452  \n",
       " 3rd Qu.:10.00                3rd Qu.:1.0000   3rd Qu.:0.0000  \n",
       " Max.   :90.00                Max.   :9.0000   Max.   :9.0000  \n",
       "                                                               \n",
       " art_sheathing_l   art_narrowing_l  ast_hyalosis_l    br_art_occlus_l \n",
       " Min.   :0.00000   Min.   :0.0000   Min.   :0.00000   Min.   :0.0000  \n",
       " 1st Qu.:0.00000   1st Qu.:0.0000   1st Qu.:0.00000   1st Qu.:0.0000  \n",
       " Median :0.00000   Median :0.0000   Median :0.00000   Median :0.0000  \n",
       " Mean   :0.05728   Mean   :0.4138   Mean   :0.05061   Mean   :0.0421  \n",
       " 3rd Qu.:0.00000   3rd Qu.:0.0000   3rd Qu.:0.00000   3rd Qu.:0.0000  \n",
       " Max.   :9.00000   Max.   :9.0000   Max.   :9.00000   Max.   :9.0000  \n",
       "                                                                      \n",
       " br_vein_occlus_l  calcified_dru_l   cen_art_occlus_l  cen_vein_occlus_l\n",
       " Min.   :0.00000   Min.   :0.00000   Min.   :0.00000   Min.   :0.0000   \n",
       " 1st Qu.:0.00000   1st Qu.:0.00000   1st Qu.:0.00000   1st Qu.:0.0000   \n",
       " Median :0.00000   Median :0.00000   Median :0.00000   Median :0.0000   \n",
       " Mean   :0.06602   Mean   :0.05222   Mean   :0.04187   Mean   :0.0444   \n",
       " 3rd Qu.:0.00000   3rd Qu.:0.00000   3rd Qu.:0.00000   3rd Qu.:0.0000   \n",
       " Max.   :9.00000   Max.   :9.00000   Max.   :9.00000   Max.   :9.0000   \n",
       "                                                                        \n",
       "  center_hd_l    center_retic_l    center_sd_l      center_si_l    \n",
       " Min.   :0.000   Min.   :0.0000   Min.   :0.0000   Min.   :0.0000  \n",
       " 1st Qu.:0.000   1st Qu.:0.0000   1st Qu.:0.0000   1st Qu.:0.0000  \n",
       " Median :1.000   Median :0.0000   Median :0.0000   Median :0.0000  \n",
       " Mean   :1.601   Mean   :0.3741   Mean   :0.5061   Mean   :0.4661  \n",
       " 3rd Qu.:3.000   3rd Qu.:0.0000   3rd Qu.:0.0000   3rd Qu.:0.0000  \n",
       " Max.   :9.000   Max.   :9.0000   Max.   :9.0000   Max.   :9.0000  \n",
       "                                                                   \n",
       " center_stippled_l chorioret_scar_l       fp_l             HE_l        \n",
       " Min.   :0.0000    Min.   :0.00000   Min.   :0.0000   Min.   :0.00000  \n",
       " 1st Qu.:0.0000    1st Qu.:0.00000   1st Qu.:0.0000   1st Qu.:0.00000  \n",
       " Median :0.0000    Median :0.00000   Median :0.0000   Median :0.00000  \n",
       " Mean   :0.3775    Mean   :0.04601   Mean   :0.0628   Mean   :0.08765  \n",
       " 3rd Qu.:0.0000    3rd Qu.:0.00000   3rd Qu.:0.0000   3rd Qu.:0.00000  \n",
       " Max.   :9.0000    Max.   :9.00000   Max.   :9.0000   Max.   :9.00000  \n",
       "                                                                       \n",
       " histoplasmosis_l      HMA_l        hollen_plaque_l  inc_pigment_cc_l\n",
       " Min.   :0.00000   Min.   :0.0000   Min.   :0.0000   Min.   :0.0000  \n",
       " 1st Qu.:0.00000   1st Qu.:0.0000   1st Qu.:0.0000   1st Qu.:0.0000  \n",
       " Median :0.00000   Median :0.0000   Median :0.0000   Median :0.0000  \n",
       " Mean   :0.04302   Mean   :0.3359   Mean   :0.0536   Mean   :0.3356  \n",
       " 3rd Qu.:0.00000   3rd Qu.:0.0000   3rd Qu.:0.0000   3rd Qu.:0.0000  \n",
       " Max.   :9.00000   Max.   :9.0000   Max.   :9.0000   Max.   :9.0000  \n",
       "                                                                     \n",
       " inc_pigment_sf_l   inner_hd_l    inner_retic_l      inner_sd_l    \n",
       " Min.   :0.0000   Min.   :0.000   Min.   :0.0000   Min.   :0.0000  \n",
       " 1st Qu.:0.0000   1st Qu.:0.000   1st Qu.:0.0000   1st Qu.:0.0000  \n",
       " Median :0.0000   Median :3.000   Median :0.0000   Median :0.0000  \n",
       " Mean   :0.1096   Mean   :2.017   Mean   :0.3612   Mean   :0.5908  \n",
       " 3rd Qu.:0.0000   3rd Qu.:3.000   3rd Qu.:0.0000   3rd Qu.:0.0000  \n",
       " Max.   :8.0000   Max.   :9.000   Max.   :9.0000   Max.   :9.0000  \n",
       " NA's   :206                                                       \n",
       "   inner_si_l    inner_stippled_l     IRMA_l        large_c_d_ratio_l\n",
       " Min.   :0.000   Min.   :0.0000   Min.   :0.00000   Min.   :0.0000   \n",
       " 1st Qu.:0.000   1st Qu.:0.0000   1st Qu.:0.00000   1st Qu.:0.0000   \n",
       " Median :0.000   Median :0.0000   Median :0.00000   Median :0.0000   \n",
       " Mean   :0.516   Mean   :0.3607   Mean   :0.09777   Mean   :0.1479   \n",
       " 3rd Qu.:0.000   3rd Qu.:0.0000   3rd Qu.:0.00000   3rd Qu.:0.0000   \n",
       " Max.   :9.000   Max.   :9.0000   Max.   :9.00000   Max.   :9.0000   \n",
       "                                                                     \n",
       "    loops_l           mac_ed_l        mac_ed_ctr_l       mac_hole_l    \n",
       " Min.   :0.00000   Min.   :0.00000   Min.   :0.00000   Min.   :0.0000  \n",
       " 1st Qu.:0.00000   1st Qu.:0.00000   1st Qu.:0.00000   1st Qu.:0.0000  \n",
       " Median :0.00000   Median :0.00000   Median :0.00000   Median :0.0000  \n",
       " Mean   :0.09179   Mean   :0.08489   Mean   :0.07776   Mean   :0.0582  \n",
       " 3rd Qu.:0.00000   3rd Qu.:0.00000   3rd Qu.:0.00000   3rd Qu.:0.0000  \n",
       " Max.   :9.00000   Max.   :9.00000   Max.   :9.00000   Max.   :9.0000  \n",
       "                                                                       \n",
       " max_dru_size_sf_l max_dru_type_sf_l    nevus_l          nve_f1_l     \n",
       " Min.   :0.000     Min.   :0.000     Min.   :0.0000   Min.   :0.0000  \n",
       " 1st Qu.:1.000     1st Qu.:1.000     1st Qu.:0.0000   1st Qu.:0.0000  \n",
       " Median :1.000     Median :2.000     Median :0.0000   Median :0.0000  \n",
       " Mean   :1.866     Mean   :2.244     Mean   :0.1155   Mean   :0.0651  \n",
       " 3rd Qu.:3.000     3rd Qu.:3.000     3rd Qu.:0.0000   3rd Qu.:0.0000  \n",
       " Max.   :9.000     Max.   :9.000     Max.   :9.0000   Max.   :9.0000  \n",
       " NA's   :172       NA's   :173                                        \n",
       "    nve_f2_l          nve_f3_l          nve_f4_l          nve_f5_l      \n",
       " Min.   :0.00000   Min.   :0.00000   Min.   :0.00000   Min.   :0.00000  \n",
       " 1st Qu.:0.00000   1st Qu.:0.00000   1st Qu.:0.00000   1st Qu.:0.00000  \n",
       " Median :0.00000   Median :0.00000   Median :0.00000   Median :0.00000  \n",
       " Mean   :0.06487   Mean   :0.06441   Mean   :0.06487   Mean   :0.06441  \n",
       " 3rd Qu.:0.00000   3rd Qu.:0.00000   3rd Qu.:0.00000   3rd Qu.:0.00000  \n",
       " Max.   :9.00000   Max.   :9.00000   Max.   :9.00000   Max.   :9.00000  \n",
       "                                                                        \n",
       "    nve_f6_l          nve_f7_l           NVD_l             NVE_l        \n",
       " Min.   :0.00000   Min.   :0.00000   Min.   :0.00000   Min.   :0.00000  \n",
       " 1st Qu.:0.00000   1st Qu.:0.00000   1st Qu.:0.00000   1st Qu.:0.00000  \n",
       " Median :0.00000   Median :0.00000   Median :0.00000   Median :0.00000  \n",
       " Mean   :0.06441   Mean   :0.06464   Mean   :0.05728   Mean   :0.06717  \n",
       " 3rd Qu.:0.00000   3rd Qu.:0.00000   3rd Qu.:0.00000   3rd Qu.:0.00000  \n",
       " Max.   :9.00000   Max.   :9.00000   Max.   :9.00000   Max.   :9.00000  \n",
       "                                                                        \n",
       " other_lesions_l other_other_l      outer_hd_l    outer_retic_l   \n",
       " Min.   :0.000   Min.   :0.0000   Min.   :0.000   Min.   :0.0000  \n",
       " 1st Qu.:0.000   1st Qu.:0.0000   1st Qu.:1.000   1st Qu.:0.0000  \n",
       " Median :2.000   Median :0.0000   Median :3.000   Median :0.0000  \n",
       " Mean   :1.099   Mean   :0.1095   Mean   :2.296   Mean   :0.3609  \n",
       " 3rd Qu.:2.000   3rd Qu.:0.0000   3rd Qu.:3.000   3rd Qu.:0.0000  \n",
       " Max.   :9.000   Max.   :9.0000   Max.   :9.000   Max.   :9.0000  \n",
       "                                                                  \n",
       "   outer_sd_l       outer_si_l   outer_stippled_l   pc_scar_l      \n",
       " Min.   :0.0000   Min.   :0.00   Min.   :0.0000   Min.   :0.00000  \n",
       " 1st Qu.:0.0000   1st Qu.:0.00   1st Qu.:0.0000   1st Qu.:0.00000  \n",
       " Median :0.0000   Median :0.00   Median :0.0000   Median :0.00000  \n",
       " Mean   :0.6828   Mean   :0.49   Mean   :0.3313   Mean   :0.05475  \n",
       " 3rd Qu.:0.0000   3rd Qu.:0.00   3rd Qu.:0.0000   3rd Qu.:0.00000  \n",
       " Max.   :9.0000   Max.   :9.00   Max.   :9.0000   Max.   :9.00000  \n",
       "                                                                   \n",
       " peripap_atrophy_l peripheral_dru_l    prh_vh_l        ret_detach_l    \n",
       " Min.   :0.0000    Min.   :0.0000   Min.   :0.00000   Min.   :0.00000  \n",
       " 1st Qu.:0.0000    1st Qu.:0.0000   1st Qu.:0.00000   1st Qu.:0.00000  \n",
       " Median :0.0000    Median :0.0000   Median :0.00000   Median :0.00000  \n",
       " Mean   :0.1486    Mean   :0.2521   Mean   :0.05705   Mean   :0.04831  \n",
       " 3rd Qu.:0.0000    3rd Qu.:0.0000   3rd Qu.:0.00000   3rd Qu.:0.00000  \n",
       " Max.   :9.0000    Max.   :9.0000   Max.   :9.00000   Max.   :9.00000  \n",
       "                                                                       \n",
       " rpe_depig_cc_l   rpe_depig_sf_l        SE_l         swr_cello_reflex_l\n",
       " Min.   :0.0000   Min.   :0.0000   Min.   :0.00000   Min.   :0.0000    \n",
       " 1st Qu.:0.0000   1st Qu.:0.0000   1st Qu.:0.00000   1st Qu.:0.0000    \n",
       " Median :0.0000   Median :0.0000   Median :0.00000   Median :0.0000    \n",
       " Mean   :0.3218   Mean   :0.0683   Mean   :0.08305   Mean   :0.5551    \n",
       " 3rd Qu.:0.0000   3rd Qu.:0.0000   3rd Qu.:0.00000   3rd Qu.:1.0000    \n",
       " Max.   :9.0000   Max.   :9.0000   Max.   :9.00000   Max.   :9.0000    \n",
       "                  NA's   :145                                          \n",
       " swr_tension_r    thick_vit_glial_l      VB_l         grade_comment_l   \n",
       " Min.   :0.0000   Min.   :0.0000    Min.   :0.00000   Length:4347       \n",
       " 1st Qu.:0.0000   1st Qu.:0.0000    1st Qu.:0.00000   Class :character  \n",
       " Median :0.0000   Median :0.0000    Median :0.00000   Mode  :character  \n",
       " Mean   :0.1153   Mean   :0.1238    Mean   :0.07068                     \n",
       " 3rd Qu.:0.0000   3rd Qu.:0.0000    3rd Qu.:0.00000                     \n",
       " Max.   :9.0000   Max.   :9.0000    Max.   :9.00000                     \n",
       "                                    NA's   :258                         \n",
       "    photos_r     pathology_reason_r photo_quality_r photo_quality_focus_r\n",
       " Min.   :0.000   Min.   : 0.0000    Min.   :0.000   Min.   :0.000        \n",
       " 1st Qu.:3.000   1st Qu.: 0.0000    1st Qu.:0.000   1st Qu.:0.000        \n",
       " Median :3.000   Median : 0.0000    Median :1.000   Median :1.000        \n",
       " Mean   :3.306   Mean   : 0.8064    Mean   :1.607   Mean   :1.551        \n",
       " 3rd Qu.:3.000   3rd Qu.: 0.0000    3rd Qu.:4.000   3rd Qu.:4.000        \n",
       " Max.   :7.000   Max.   :99.0000    Max.   :9.000   Max.   :9.000        \n",
       "                 NA's   :70                                              \n",
       "   PQ_field_r     PQ_Stereo_r      PQ_Other_r    exclude_prelim_r \n",
       " Min.   :0.000   Min.   :0.000   Min.   :0.000   Min.   : 0.0000  \n",
       " 1st Qu.:0.000   1st Qu.:0.000   1st Qu.:0.000   1st Qu.: 0.0000  \n",
       " Median :0.000   Median :0.000   Median :0.000   Median : 0.0000  \n",
       " Mean   :1.467   Mean   :1.394   Mean   :1.552   Mean   : 0.1258  \n",
       " 3rd Qu.:4.000   3rd Qu.:4.000   3rd Qu.:4.000   3rd Qu.: 0.0000  \n",
       " Max.   :9.000   Max.   :9.000   Max.   :9.000   Max.   :15.0000  \n",
       "                                                 NA's   :6        \n",
       " drusen_size_r   drusen_type_r   drusen_area_r   rpe_depigmentation_r\n",
       " Min.   :0.000   Min.   :0.000   Min.   :0.000   Min.   :0.0000      \n",
       " 1st Qu.:2.000   1st Qu.:2.000   1st Qu.:1.000   1st Qu.:0.0000      \n",
       " Median :2.000   Median :2.000   Median :2.000   Median :0.0000      \n",
       " Mean   :2.186   Mean   :1.949   Mean   :2.137   Mean   :0.3975      \n",
       " 3rd Qu.:3.000   3rd Qu.:2.000   3rd Qu.:3.000   3rd Qu.:0.0000      \n",
       " Max.   :6.000   Max.   :4.000   Max.   :7.000   Max.   :9.0000      \n",
       " NA's   :180     NA's   :180     NA's   :180                         \n",
       " increased_pigment_r geographic_atrophy_r disc_area_of_GA_r    PED_RD_r     \n",
       " Min.   :0.0000      Min.   :0.0000       Min.   :0.00000   Min.   :0.0000  \n",
       " 1st Qu.:0.0000      1st Qu.:0.0000       1st Qu.:0.00000   1st Qu.:0.0000  \n",
       " Median :0.0000      Median :0.0000       Median :0.00000   Median :0.0000  \n",
       " Mean   :0.5896      Mean   :0.2346       Mean   :0.00828   Mean   :0.2475  \n",
       " 3rd Qu.:0.0000      3rd Qu.:0.0000       3rd Qu.:0.00000   3rd Qu.:0.0000  \n",
       " Max.   :9.0000      Max.   :9.0000       Max.   :6.00000   Max.   :9.0000  \n",
       "                                          NA's   :121                       \n",
       " subretinal_hemorrhage_r subretinal_scar_r disc_area_of_exudative_lesions_r\n",
       " Min.   :0.0000          Min.   :0.0000    Min.   : 0.0000                 \n",
       " 1st Qu.:0.0000          1st Qu.:0.0000    1st Qu.: 0.0000                 \n",
       " Median :0.0000          Median :0.0000    Median : 0.0000                 \n",
       " Mean   :0.2284          Mean   :0.2337    Mean   : 0.0265                 \n",
       " 3rd Qu.:0.0000          3rd Qu.:0.0000    3rd Qu.: 0.0000                 \n",
       " Max.   :9.0000          Max.   :9.0000    Max.   :16.0000                 \n",
       "                                           NA's   :120                     \n",
       "    arm_rx_r      arm_severity_r   diabetic_retinopathy_level_r\n",
       " Min.   :0.0000   Min.   :0.0000   Min.   :10.00               \n",
       " 1st Qu.:0.0000   1st Qu.:0.0000   1st Qu.:10.00               \n",
       " Median :0.0000   Median :0.0000   Median :10.00               \n",
       " Mean   :0.2254   Mean   :0.4283   Mean   :11.97               \n",
       " 3rd Qu.:0.0000   3rd Qu.:0.0000   3rd Qu.:10.00               \n",
       " Max.   :9.0000   Max.   :9.0000   Max.   :90.00               \n",
       "                                                               \n",
       "   a_v_nick_r       arm_late_r     art_sheathing_r   art_narrowing_r \n",
       " Min.   :0.0000   Min.   :0.0000   Min.   :0.00000   Min.   :0.0000  \n",
       " 1st Qu.:0.0000   1st Qu.:0.0000   1st Qu.:0.00000   1st Qu.:0.0000  \n",
       " Median :0.0000   Median :0.0000   Median :0.00000   Median :0.0000  \n",
       " Mean   :0.4941   Mean   :0.2471   Mean   :0.05774   Mean   :0.4493  \n",
       " 3rd Qu.:1.0000   3rd Qu.:0.0000   3rd Qu.:0.00000   3rd Qu.:0.0000  \n",
       " Max.   :9.0000   Max.   :9.0000   Max.   :9.00000   Max.   :9.0000  \n",
       "                                                                     \n",
       " ast_hyalosis_r    br_art_occlus_r   br_vein_occlus_r  calcified_dru_r  \n",
       " Min.   :0.00000   Min.   :0.00000   Min.   :0.00000   Min.   :0.00000  \n",
       " 1st Qu.:0.00000   1st Qu.:0.00000   1st Qu.:0.00000   1st Qu.:0.00000  \n",
       " Median :0.00000   Median :0.00000   Median :0.00000   Median :0.00000  \n",
       " Mean   :0.04923   Mean   :0.04647   Mean   :0.06487   Mean   :0.05705  \n",
       " 3rd Qu.:0.00000   3rd Qu.:0.00000   3rd Qu.:0.00000   3rd Qu.:0.00000  \n",
       " Max.   :9.00000   Max.   :9.00000   Max.   :9.00000   Max.   :9.00000  \n",
       "                                                                        \n",
       " cen_art_occlus_r  cen_vein_occlus_r  center_hd_r    center_retic_r  \n",
       " Min.   :0.00000   Min.   :0.00000   Min.   :0.000   Min.   :0.0000  \n",
       " 1st Qu.:0.00000   1st Qu.:0.00000   1st Qu.:0.000   1st Qu.:0.0000  \n",
       " Median :0.00000   Median :0.00000   Median :1.000   Median :0.0000  \n",
       " Mean   :0.04371   Mean   :0.04624   Mean   :1.604   Mean   :0.3697  \n",
       " 3rd Qu.:0.00000   3rd Qu.:0.00000   3rd Qu.:3.000   3rd Qu.:0.0000  \n",
       " Max.   :9.00000   Max.   :9.00000   Max.   :9.000   Max.   :9.0000  \n",
       "                                                                     \n",
       "  center_sd_r      center_si_r    center_stippled_r chorioret_scar_r \n",
       " Min.   :0.0000   Min.   :0.000   Min.   :0.0000    Min.   :0.00000  \n",
       " 1st Qu.:0.0000   1st Qu.:0.000   1st Qu.:0.0000    1st Qu.:0.00000  \n",
       " Median :0.0000   Median :0.000   Median :0.0000    Median :0.00000  \n",
       " Mean   :0.5031   Mean   :0.478   Mean   :0.3987    Mean   :0.05567  \n",
       " 3rd Qu.:0.0000   3rd Qu.:0.000   3rd Qu.:0.0000    3rd Qu.:0.00000  \n",
       " Max.   :9.0000   Max.   :9.000   Max.   :9.0000    Max.   :9.00000  \n",
       "                                                                     \n",
       "      fp_r              HE_r         histoplasmosis_r      HMA_r       \n",
       " Min.   :0.00000   Min.   :0.00000   Min.   :0.00000   Min.   :0.0000  \n",
       " 1st Qu.:0.00000   1st Qu.:0.00000   1st Qu.:0.00000   1st Qu.:0.0000  \n",
       " Median :0.00000   Median :0.00000   Median :0.00000   Median :0.0000  \n",
       " Mean   :0.06717   Mean   :0.09846   Mean   :0.04831   Mean   :0.3297  \n",
       " 3rd Qu.:0.00000   3rd Qu.:0.00000   3rd Qu.:0.00000   3rd Qu.:0.0000  \n",
       " Max.   :9.00000   Max.   :9.00000   Max.   :9.00000   Max.   :9.0000  \n",
       "                                                                       \n",
       " hollen_plaque_r   inc_pigment_cc_r inc_pigment_sf_r   inner_hd_r   \n",
       " Min.   :0.00000   Min.   :0.0000   Min.   :0.0000   Min.   :0.000  \n",
       " 1st Qu.:0.00000   1st Qu.:0.0000   1st Qu.:0.0000   1st Qu.:0.000  \n",
       " Median :0.00000   Median :0.0000   Median :0.0000   Median :3.000  \n",
       " Mean   :0.06464   Mean   :0.3451   Mean   :0.1152   Mean   :2.085  \n",
       " 3rd Qu.:0.00000   3rd Qu.:0.0000   3rd Qu.:0.0000   3rd Qu.:3.000  \n",
       " Max.   :9.00000   Max.   :9.0000   Max.   :9.0000   Max.   :9.000  \n",
       "                                    NA's   :215                     \n",
       " inner_retic_r      inner_sd_r       inner_si_r     inner_stippled_r\n",
       " Min.   :0.0000   Min.   :0.0000   Min.   :0.0000   Min.   :0.0000  \n",
       " 1st Qu.:0.0000   1st Qu.:0.0000   1st Qu.:0.0000   1st Qu.:0.0000  \n",
       " Median :0.0000   Median :0.0000   Median :0.0000   Median :0.0000  \n",
       " Mean   :0.3655   Mean   :0.5855   Mean   :0.5227   Mean   :0.3685  \n",
       " 3rd Qu.:0.0000   3rd Qu.:0.0000   3rd Qu.:0.0000   3rd Qu.:0.0000  \n",
       " Max.   :9.0000   Max.   :9.0000   Max.   :9.0000   Max.   :9.0000  \n",
       "                                                                    \n",
       "     IRMA_r       large_c_d_ratio_r    loops_r          mac_ed_r     \n",
       " Min.   :0.0000   Min.   :0.0000    Min.   :0.0000   Min.   :0.0000  \n",
       " 1st Qu.:0.0000   1st Qu.:0.0000    1st Qu.:0.0000   1st Qu.:0.0000  \n",
       " Median :0.0000   Median :0.0000    Median :0.0000   Median :0.0000  \n",
       " Mean   :0.1021   Mean   :0.1205    Mean   :0.0911   Mean   :0.1019  \n",
       " 3rd Qu.:0.0000   3rd Qu.:0.0000    3rd Qu.:0.0000   3rd Qu.:0.0000  \n",
       " Max.   :9.0000   Max.   :9.0000    Max.   :9.0000   Max.   :9.0000  \n",
       "                                                                     \n",
       "  mac_ed_ctr_r       mac_hole_r      max_dru_size_sf_r max_dru_type_sf_r\n",
       " Min.   :0.00000   Min.   :0.00000   Min.   :0.00      Min.   :0.00     \n",
       " 1st Qu.:0.00000   1st Qu.:0.00000   1st Qu.:1.00      1st Qu.:1.00     \n",
       " Median :0.00000   Median :0.00000   Median :1.00      Median :2.00     \n",
       " Mean   :0.09087   Mean   :0.05843   Mean   :1.92      Mean   :2.32     \n",
       " 3rd Qu.:0.00000   3rd Qu.:0.00000   3rd Qu.:3.00      3rd Qu.:3.00     \n",
       " Max.   :9.00000   Max.   :9.00000   Max.   :9.00      Max.   :9.00     \n",
       "                                     NA's   :180       NA's   :181      \n",
       "    nevus_r          nve_f1_r          nve_f2_r          nve_f3_r      \n",
       " Min.   :0.0000   Min.   :0.00000   Min.   :0.00000   Min.   :0.00000  \n",
       " 1st Qu.:0.0000   1st Qu.:0.00000   1st Qu.:0.00000   1st Qu.:0.00000  \n",
       " Median :0.0000   Median :0.00000   Median :0.00000   Median :0.00000  \n",
       " Mean   :0.1136   Mean   :0.06993   Mean   :0.07039   Mean   :0.07039  \n",
       " 3rd Qu.:0.0000   3rd Qu.:0.00000   3rd Qu.:0.00000   3rd Qu.:0.00000  \n",
       " Max.   :9.0000   Max.   :9.00000   Max.   :9.00000   Max.   :9.00000  \n",
       "                                                                       \n",
       "    nve_f4_r          nve_f5_r          nve_f6_r         nve_f7_r      \n",
       " Min.   :0.00000   Min.   :0.00000   Min.   :0.0000   Min.   :0.00000  \n",
       " 1st Qu.:0.00000   1st Qu.:0.00000   1st Qu.:0.0000   1st Qu.:0.00000  \n",
       " Median :0.00000   Median :0.00000   Median :0.0000   Median :0.00000  \n",
       " Mean   :0.07062   Mean   :0.06993   Mean   :0.0697   Mean   :0.06947  \n",
       " 3rd Qu.:0.00000   3rd Qu.:0.00000   3rd Qu.:0.0000   3rd Qu.:0.00000  \n",
       " Max.   :9.00000   Max.   :9.00000   Max.   :9.0000   Max.   :9.00000  \n",
       "                                                                       \n",
       "     NVD_r             NVE_r         other_lesions_r other_other_r   \n",
       " Min.   :0.00000   Min.   :0.00000   Min.   :0.000   Min.   :0.0000  \n",
       " 1st Qu.:0.00000   1st Qu.:0.00000   1st Qu.:0.000   1st Qu.:0.0000  \n",
       " Median :0.00000   Median :0.00000   Median :2.000   Median :0.0000  \n",
       " Mean   :0.06625   Mean   :0.07108   Mean   :1.106   Mean   :0.1327  \n",
       " 3rd Qu.:0.00000   3rd Qu.:0.00000   3rd Qu.:2.000   3rd Qu.:0.0000  \n",
       " Max.   :9.00000   Max.   :9.00000   Max.   :9.000   Max.   :9.0000  \n",
       "                                                                     \n",
       "   outer_hd_r    outer_retic_r      outer_sd_r       outer_si_r    \n",
       " Min.   :0.000   Min.   :0.0000   Min.   :0.0000   Min.   :0.0000  \n",
       " 1st Qu.:1.000   1st Qu.:0.0000   1st Qu.:0.0000   1st Qu.:0.0000  \n",
       " Median :3.000   Median :0.0000   Median :0.0000   Median :0.0000  \n",
       " Mean   :2.381   Mean   :0.3697   Mean   :0.6674   Mean   :0.4895  \n",
       " 3rd Qu.:3.000   3rd Qu.:0.0000   3rd Qu.:0.0000   3rd Qu.:0.0000  \n",
       " Max.   :9.000   Max.   :9.0000   Max.   :9.0000   Max.   :9.0000  \n",
       "                                                                   \n",
       " outer_stippled_r   pc_scar_r       peripap_atrophy_r peripheral_dru_r\n",
       " Min.   :0.0000   Min.   :0.00000   Min.   :0.000     Min.   :0.0000  \n",
       " 1st Qu.:0.0000   1st Qu.:0.00000   1st Qu.:0.000     1st Qu.:0.0000  \n",
       " Median :0.0000   Median :0.00000   Median :0.000     Median :0.0000  \n",
       " Mean   :0.3506   Mean   :0.06326   Mean   :0.164     Mean   :0.2728  \n",
       " 3rd Qu.:0.0000   3rd Qu.:0.00000   3rd Qu.:0.000     3rd Qu.:0.0000  \n",
       " Max.   :9.0000   Max.   :9.00000   Max.   :9.000     Max.   :9.0000  \n",
       "                                                                      \n",
       "    prh_vh_r        ret_detach_r     rpe_depig_cc_r   rpe_depig_sf_r   \n",
       " Min.   :0.00000   Min.   :0.00000   Min.   :0.0000   Min.   :0.00000  \n",
       " 1st Qu.:0.00000   1st Qu.:0.00000   1st Qu.:0.0000   1st Qu.:0.00000  \n",
       " Median :0.00000   Median :0.00000   Median :0.0000   Median :0.00000  \n",
       " Mean   :0.06763   Mean   :0.04969   Mean   :0.3303   Mean   :0.06792  \n",
       " 3rd Qu.:0.00000   3rd Qu.:0.00000   3rd Qu.:0.0000   3rd Qu.:0.00000  \n",
       " Max.   :9.00000   Max.   :9.00000   Max.   :9.0000   Max.   :9.00000  \n",
       "                                                      NA's   :151      \n",
       "      SE_r         swr_cello_reflex_r thick_vit_glial_r      VB_r       \n",
       " Min.   :0.00000   Min.   :0.0000     Min.   :0.0000    Min.   :0.0000  \n",
       " 1st Qu.:0.00000   1st Qu.:0.0000     1st Qu.:0.0000    1st Qu.:0.0000  \n",
       " Median :0.00000   Median :0.0000     Median :0.0000    Median :0.0000  \n",
       " Mean   :0.09363   Mean   :0.5346     Mean   :0.1525    Mean   :0.0736  \n",
       " 3rd Qu.:0.00000   3rd Qu.:1.0000     3rd Qu.:0.0000    3rd Qu.:0.0000  \n",
       " Max.   :9.00000   Max.   :9.0000     Max.   :9.0000    Max.   :9.0000  \n",
       "                                                        NA's   :230     \n",
       " grade_comment_r      COMMON_ID       study_status       arm_r     \n",
       " Length:4347        Min.   :100038   Min.   :2.000   Min.   :10.0  \n",
       " Class :character   1st Qu.:151058   1st Qu.:2.000   1st Qu.:10.0  \n",
       " Mode  :character   Median :201586   Median :3.000   Median :10.0  \n",
       "                    Mean   :201137   Mean   :2.638   Mean   :12.6  \n",
       "                    3rd Qu.:251348   3rd Qu.:3.000   3rd Qu.:10.0  \n",
       "                    Max.   :299988   Max.   :3.000   Max.   :60.0  \n",
       "                                     NA's   :4300    NA's   :151   \n",
       "     arm_l            ARM           trt_cmb           treat       \n",
       " Min.   :10.00   Min.   :10.00   Min.   :0.0000   Min.   :0.0000  \n",
       " 1st Qu.:10.00   1st Qu.:10.00   1st Qu.:0.0000   1st Qu.:0.0000  \n",
       " Median :10.00   Median :10.00   Median :1.0000   Median :1.0000  \n",
       " Mean   :12.68   Mean   :13.75   Mean   :0.5072   Mean   :0.6931  \n",
       " 3rd Qu.:10.00   3rd Qu.:10.00   3rd Qu.:1.0000   3rd Qu.:1.0000  \n",
       " Max.   :60.00   Max.   :60.00   Max.   :1.0000   Max.   :2.0000  \n",
       " NA's   :145     NA's   :59                                       \n",
       "    trial           swr_tension_l    graded_year_l  graded_year_r \n",
       " Length:4347        Min.   :0.0000   Min.   :2000   Min.   :2000  \n",
       " Class :character   1st Qu.:0.0000   1st Qu.:2001   1st Qu.:2001  \n",
       " Mode  :character   Median :0.0000   Median :2001   Median :2001  \n",
       "                    Mean   :0.1077   Mean   :2001   Mean   :2001  \n",
       "                    3rd Qu.:0.0000   3rd Qu.:2001   3rd Qu.:2001  \n",
       "                    Max.   :9.0000   Max.   :2002   Max.   :2002  \n",
       "                                     NA's   :6      NA's   :6     \n",
       " pathology_year_l pathology_year_r  photo_year_l   photo_year_r   Eye_Exam_YY  \n",
       " Min.   :2000     Min.   :2000     Min.   :2000   Min.   :2000   Min.   :2000  \n",
       " 1st Qu.:2001     1st Qu.:2001     1st Qu.:2001   1st Qu.:2001   1st Qu.:2001  \n",
       " Median :2001     Median :2001     Median :2001   Median :2001   Median :2001  \n",
       " Mean   :2001     Mean   :2001     Mean   :2001   Mean   :2001   Mean   :2001  \n",
       " 3rd Qu.:2001     3rd Qu.:2001     3rd Qu.:2001   3rd Qu.:2001   3rd Qu.:2001  \n",
       " Max.   :2002     Max.   :2002     Max.   :2002   Max.   :2002   Max.   :2002  \n",
       " NA's   :4128     NA's   :4147                                                 "
      ]
     },
     "metadata": {},
     "output_type": "display_data"
    }
   ],
   "source": [
    "summary(WHISE)"
   ]
  },
  {
   "cell_type": "markdown",
   "metadata": {},
   "source": [
    "## Missing value patterns: right eyes are missing more compared to the left eyes"
   ]
  },
  {
   "cell_type": "code",
   "execution_count": 13,
   "metadata": {
    "collapsed": false,
    "scrolled": false
   },
   "outputs": [
    {
     "data": {
      "image/png": "[encoded data removed]",
      "text/plain": [
       "plot without title"
      ]
     },
     "metadata": {},
     "output_type": "display_data"
    }
   ],
   "source": [
    "par(mar=c(9,9,1,1)) \n",
    "barplot(which(apply(WHISE, 2, function(x) { sum(is.na(x)) > 0 })), las=2, ylim=c(0, 200))"
   ]
  },
  {
   "cell_type": "markdown",
   "metadata": {},
   "source": [
    "# Exploration of the MRI data"
   ]
  },
  {
   "cell_type": "code",
   "execution_count": 17,
   "metadata": {
    "collapsed": true
   },
   "outputs": [],
   "source": [
    "MRI.abnormal <- read.csv('data/MRI1_abnormalvol.csv', header=T, stringsAsFactor=F)"
   ]
  },
  {
   "cell_type": "code",
   "execution_count": 18,
   "metadata": {
    "collapsed": true
   },
   "outputs": [],
   "source": [
    "MRI.regional <- read.csv('data/MRI1_totalvol.csv', header=T, stringsAsFactor=F)"
   ]
  },
  {
   "cell_type": "code",
   "execution_count": 21,
   "metadata": {
    "collapsed": false
   },
   "outputs": [
    {
     "data": {
      "text/html": [
       "<ol class=list-inline>\n",
       "\t<li>1403</li>\n",
       "\t<li>95</li>\n",
       "</ol>\n"
      ],
      "text/latex": [
       "\\begin{enumerate*}\n",
       "\\item 1403\n",
       "\\item 95\n",
       "\\end{enumerate*}\n"
      ],
      "text/markdown": [
       "1. 1403\n",
       "2. 95\n",
       "\n",
       "\n"
      ],
      "text/plain": [
       "[1] 1403   95"
      ]
     },
     "metadata": {},
     "output_type": "display_data"
    },
    {
     "data": {
      "text/html": [
       "<ol class=list-inline>\n",
       "\t<li>1403</li>\n",
       "\t<li>96</li>\n",
       "</ol>\n"
      ],
      "text/latex": [
       "\\begin{enumerate*}\n",
       "\\item 1403\n",
       "\\item 96\n",
       "\\end{enumerate*}\n"
      ],
      "text/markdown": [
       "1. 1403\n",
       "2. 96\n",
       "\n",
       "\n"
      ],
      "text/plain": [
       "[1] 1403   96"
      ]
     },
     "metadata": {},
     "output_type": "display_data"
    }
   ],
   "source": [
    "dim(MRI.abnormal)\n",
    "dim(MRI.regional)"
   ]
  },
  {
   "cell_type": "markdown",
   "metadata": {},
   "source": [
    "## There are no missing values in MRI data"
   ]
  },
  {
   "cell_type": "code",
   "execution_count": 19,
   "metadata": {
    "collapsed": false,
    "scrolled": true
   },
   "outputs": [
    {
     "data": {
      "text/plain": [
       "       id             mri_dy     medial_front_orbital_gyrus_right\n",
       " Min.   :100038   Min.   :2350   Min.   :0.00000                 \n",
       " 1st Qu.:154706   1st Qu.:2767   1st Qu.:0.00000                 \n",
       " Median :201786   Median :2930   Median :0.00000                 \n",
       " Mean   :201750   Mean   :2923   Mean   :0.00221                 \n",
       " 3rd Qu.:249747   3rd Qu.:3066   3rd Qu.:0.00000                 \n",
       " Max.   :299760   Max.   :3726   Max.   :0.30000                 \n",
       " middle_frontal_gyrus_right lateral_ventricle_left  insula_right    \n",
       " Min.   :0.00000            Min.   :0.0000         Min.   :0.00000  \n",
       " 1st Qu.:0.00000            1st Qu.:0.0000         1st Qu.:0.00000  \n",
       " Median :0.00000            Median :0.1000         Median :0.00000  \n",
       " Mean   :0.02195            Mean   :0.1485         Mean   :0.02003  \n",
       " 3rd Qu.:0.00000            3rd Qu.:0.2000         3rd Qu.:0.00000  \n",
       " Max.   :2.90000            Max.   :1.6000         Max.   :2.50000  \n",
       " precentral_gyrus_right lateral_front_orbital_gyrus_rt cingulate_region_right\n",
       " Min.   :0.00000        Min.   :0.000000               Min.   :0.000000      \n",
       " 1st Qu.:0.00000        1st Qu.:0.000000               1st Qu.:0.000000      \n",
       " Median :0.00000        Median :0.000000               Median :0.000000      \n",
       " Mean   :0.02031        Mean   :0.001996               Mean   :0.002994      \n",
       " 3rd Qu.:0.00000        3rd Qu.:0.000000               3rd Qu.:0.000000      \n",
       " Max.   :2.60000        Max.   :0.500000               Max.   :0.500000      \n",
       " lateral_ventricle_right medial_frontal_gyrus_left superior_frontal_gyrus_right\n",
       " Min.   :0.0000          Min.   :0.000000          Min.   :0.00000             \n",
       " 1st Qu.:0.0000          1st Qu.:0.000000          1st Qu.:0.00000             \n",
       " Median :0.1000          Median :0.000000          Median :0.00000             \n",
       " Mean   :0.1365          Mean   :0.005417          Mean   :0.01019             \n",
       " 3rd Qu.:0.2000          3rd Qu.:0.000000          3rd Qu.:0.00000             \n",
       " Max.   :1.8000          Max.   :3.700000          Max.   :3.30000             \n",
       " globus_palladus_right globus_palladus_left  putamen_left    \n",
       " Min.   :0.0000000     Min.   :0            Min.   :0.00000  \n",
       " 1st Qu.:0.0000000     1st Qu.:0            1st Qu.:0.00000  \n",
       " Median :0.0000000     Median :0            Median :0.00000  \n",
       " Mean   :0.0002851     Mean   :0            Mean   :0.01639  \n",
       " 3rd Qu.:0.0000000     3rd Qu.:0            3rd Qu.:0.00000  \n",
       " Max.   :0.4000000     Max.   :0            Max.   :1.90000  \n",
       " inferior_frontal_gyrus_left putamen_right     frontal_lobe_WM_right\n",
       " Min.   :0.00000             Min.   :0.00000   Min.   : 0.000       \n",
       " 1st Qu.:0.00000             1st Qu.:0.00000   1st Qu.: 0.400       \n",
       " Median :0.00000             Median :0.00000   Median : 0.900       \n",
       " Mean   :0.01233             Mean   :0.01304   Mean   : 1.678       \n",
       " 3rd Qu.:0.00000             3rd Qu.:0.00000   3rd Qu.: 1.900       \n",
       " Max.   :2.30000             Max.   :1.40000   Max.   :23.500       \n",
       " parahippocampal_gyrus_left angular_gyrus_right temporal_pole_right\n",
       " Min.   :0                  Min.   :0.00000     Min.   :0.000000   \n",
       " 1st Qu.:0                  1st Qu.:0.00000     1st Qu.:0.000000   \n",
       " Median :0                  Median :0.00000     Median :0.000000   \n",
       " Mean   :0                  Mean   :0.01126     Mean   :0.001497   \n",
       " 3rd Qu.:0                  3rd Qu.:0.00000     3rd Qu.:0.000000   \n",
       " Max.   :0                  Max.   :1.60000     Max.   :0.300000   \n",
       " subthalamic_nucleus_right nucleus_accumbens_right  uncus_right       \n",
       " Min.   :0                 Min.   :0.0000000       Min.   :0.0000000  \n",
       " 1st Qu.:0                 1st Qu.:0.0000000       1st Qu.:0.0000000  \n",
       " Median :0                 Median :0.0000000       Median :0.0000000  \n",
       " Mean   :0                 Mean   :0.0009266       Mean   :0.0005702  \n",
       " 3rd Qu.:0                 3rd Qu.:0.0000000       3rd Qu.:0.0000000  \n",
       " Max.   :0                 Max.   :0.2000000       Max.   :0.2000000  \n",
       " cingulate_region_left  fornix_left       frontal_lobe_WM_left\n",
       " Min.   :0.000000      Min.   :0.000000   Min.   : 0.000      \n",
       " 1st Qu.:0.000000      1st Qu.:0.000000   1st Qu.: 0.300      \n",
       " Median :0.000000      Median :0.000000   Median : 0.800      \n",
       " Mean   :0.006415      Mean   :0.006201   Mean   : 1.543      \n",
       " 3rd Qu.:0.000000      3rd Qu.:0.000000   3rd Qu.: 1.850      \n",
       " Max.   :2.100000      Max.   :0.200000   Max.   :22.800      \n",
       " precuneus_right    subthalamic_nucleus_left pst_lmb_int_cap_cere_pedunc_lt\n",
       " Min.   :0.000000   Min.   :0                Min.   :0.00000               \n",
       " 1st Qu.:0.000000   1st Qu.:0                1st Qu.:0.00000               \n",
       " Median :0.000000   Median :0                Median :0.00000               \n",
       " Mean   :0.001212   Mean   :0                Mean   :0.03999               \n",
       " 3rd Qu.:0.000000   3rd Qu.:0                3rd Qu.:0.00000               \n",
       " Max.   :0.200000   Max.   :0                Max.   :1.10000               \n",
       " pst_lmb_int_cap_cere_pedunc_rt hippocampal_formation_right\n",
       " Min.   :0.0000                 Min.   :0.000000           \n",
       " 1st Qu.:0.0000                 1st Qu.:0.000000           \n",
       " Median :0.0000                 Median :0.000000           \n",
       " Mean   :0.0531                 Mean   :0.002495           \n",
       " 3rd Qu.:0.0000                 3rd Qu.:0.000000           \n",
       " Max.   :1.3000                 Max.   :0.300000           \n",
       " inferior_occipital_gyrus_left superior_occipital_gyrus_right\n",
       " Min.   :0.000000              Min.   :0.000000              \n",
       " 1st Qu.:0.000000              1st Qu.:0.000000              \n",
       " Median :0.000000              Median :0.000000              \n",
       " Mean   :0.002138              Mean   :0.001996              \n",
       " 3rd Qu.:0.000000              3rd Qu.:0.000000              \n",
       " Max.   :1.500000              Max.   :1.400000              \n",
       " caudate_nucleus_left supramarginal_gyrus_left ant_lmb_of_int_cap_lt\n",
       " Min.   :0.0000       Min.   :0.0000           Min.   :0.000000     \n",
       " 1st Qu.:0.0000       1st Qu.:0.0000           1st Qu.:0.000000     \n",
       " Median :0.2000       Median :0.0000           Median :0.000000     \n",
       " Mean   :0.3649       Mean   :0.0067           Mean   :0.002281     \n",
       " 3rd Qu.:0.6000       3rd Qu.:0.0000           3rd Qu.:0.000000     \n",
       " Max.   :3.2000       Max.   :0.6000           Max.   :0.200000     \n",
       " occipital_lobe_WM_right middle_frontal_gyrus_left\n",
       " Min.   :0.0000          Min.   :0.00000          \n",
       " 1st Qu.:0.0000          1st Qu.:0.00000          \n",
       " Median :0.1000          Median :0.00000          \n",
       " Mean   :0.2241          Mean   :0.02259          \n",
       " 3rd Qu.:0.3000          3rd Qu.:0.00000          \n",
       " Max.   :5.1000          Max.   :3.30000          \n",
       " superior_parietal_lobule_left caudate_nucleus_right  cuneus_left     \n",
       " Min.   :0.00000               Min.   :0.0000        Min.   :0.00000  \n",
       " 1st Qu.:0.00000               1st Qu.:0.1000        1st Qu.:0.00000  \n",
       " Median :0.00000               Median :0.2000        Median :0.00000  \n",
       " Mean   :0.02944               Mean   :0.3867        Mean   :0.02217  \n",
       " 3rd Qu.:0.00000               3rd Qu.:0.6000        3rd Qu.:0.00000  \n",
       " Max.   :1.70000               Max.   :3.0000        Max.   :1.00000  \n",
       " precuneus_left      parietal_lobe_WM_left temporal_lobe_WM_right\n",
       " Min.   :0.0000000   Min.   : 0.0000       Min.   :0.0000        \n",
       " 1st Qu.:0.0000000   1st Qu.: 0.1000       1st Qu.:0.1000        \n",
       " Median :0.0000000   Median : 0.3000       Median :0.3000        \n",
       " Mean   :0.0007128   Mean   : 0.9714       Mean   :0.7455        \n",
       " 3rd Qu.:0.0000000   3rd Qu.: 1.1000       3rd Qu.:1.0000        \n",
       " Max.   :0.1000000   Max.   :13.1000       Max.   :7.9000        \n",
       " supramarginal_gyrus_right superior_temporal_gyrus_left   uncus_left       \n",
       " Min.   :0.000000          Min.   :0.000000             Min.   :0.0000000  \n",
       " 1st Qu.:0.000000          1st Qu.:0.000000             1st Qu.:0.0000000  \n",
       " Median :0.000000          Median :0.000000             Median :0.0000000  \n",
       " Mean   :0.001354          Mean   :0.004989             Mean   :0.0002851  \n",
       " 3rd Qu.:0.000000          3rd Qu.:0.000000             3rd Qu.:0.0000000  \n",
       " Max.   :0.400000          Max.   :0.900000             Max.   :0.1000000  \n",
       " middle_occipital_gyrus_right middle_temporal_gyrus_left lingual_gyrus_left\n",
       " Min.   :0.000000             Min.   :0.000000           Min.   :0.000000  \n",
       " 1st Qu.:0.000000             1st Qu.:0.000000           1st Qu.:0.000000  \n",
       " Median :0.000000             Median :0.000000           Median :0.000000  \n",
       " Mean   :0.003564             Mean   :0.006058           Mean   :0.006415  \n",
       " 3rd Qu.:0.000000             3rd Qu.:0.000000           3rd Qu.:0.000000  \n",
       " Max.   :0.700000             Max.   :1.700000           Max.   :3.200000  \n",
       " superior_frontal_gyrus_left nucleus_accumbens_left occipital_lobe_WM_left\n",
       " Min.   :0.00000             Min.   :0.0000000      Min.   :0.0000        \n",
       " 1st Qu.:0.00000             1st Qu.:0.0000000      1st Qu.:0.0000        \n",
       " Median :0.00000             Median :0.0000000      Median :0.1000        \n",
       " Mean   :0.00613             Mean   :0.0006415      Mean   :0.2262        \n",
       " 3rd Qu.:0.00000             3rd Qu.:0.0000000      3rd Qu.:0.3000        \n",
       " Max.   :0.90000             Max.   :0.1000000      Max.   :3.2000        \n",
       " postcentral_gyrus_left inferior_frontal_gyrus_right precentral_gyrus_left\n",
       " Min.   :0.000000       Min.   :0.00000              Min.   :0.00000      \n",
       " 1st Qu.:0.000000       1st Qu.:0.00000              1st Qu.:0.00000      \n",
       " Median :0.000000       Median :0.00000              Median :0.00000      \n",
       " Mean   :0.009694       Mean   :0.01561              Mean   :0.01896      \n",
       " 3rd Qu.:0.000000       3rd Qu.:0.00000              3rd Qu.:0.00000      \n",
       " Max.   :0.600000       Max.   :3.60000              Max.   :1.30000      \n",
       " temporal_lobe_WM_left medial_front_orbital_gyrus_left perirhinal_cortex_right\n",
       " Min.   : 0.0000       Min.   :0.0000000               Min.   :0.0000000      \n",
       " 1st Qu.: 0.1000       1st Qu.:0.0000000               1st Qu.:0.0000000      \n",
       " Median : 0.4000       Median :0.0000000               Median :0.0000000      \n",
       " Mean   : 0.8232       Mean   :0.0009979               Mean   :0.0005702      \n",
       " 3rd Qu.: 1.2000       3rd Qu.:0.0000000               3rd Qu.:0.0000000      \n",
       " Max.   :10.6000       Max.   :0.2000000               Max.   :0.2000000      \n",
       " superior_parietal_lobule_right lateral_front_orbital_gyrus_left\n",
       " Min.   :0.00000                Min.   :0.000000                \n",
       " 1st Qu.:0.00000                1st Qu.:0.000000                \n",
       " Median :0.00000                Median :0.000000                \n",
       " Mean   :0.01682                Mean   :0.005274                \n",
       " 3rd Qu.:0.00000                3rd Qu.:0.000000                \n",
       " Max.   :2.10000                Max.   :3.600000                \n",
       " perirhinal_cortex_left inferior_temporal_gyrus_left temporal_pole_left\n",
       " Min.   :0.000000       Min.   :0.00000              Min.   :0.000000  \n",
       " 1st Qu.:0.000000       1st Qu.:0.00000              1st Qu.:0.000000  \n",
       " Median :0.000000       Median :0.00000              Median :0.000000  \n",
       " Mean   :0.000784       Mean   :0.00114              Mean   :0.002423  \n",
       " 3rd Qu.:0.000000       3rd Qu.:0.00000              3rd Qu.:0.000000  \n",
       " Max.   :0.300000       Max.   :0.50000              Max.   :1.000000  \n",
       " entorhinal_cortex_left inferior_occipital_gyrus_right\n",
       " Min.   :0.0000000      Min.   :0                     \n",
       " 1st Qu.:0.0000000      1st Qu.:0                     \n",
       " Median :0.0000000      Median :0                     \n",
       " Mean   :0.0002851      Mean   :0                     \n",
       " 3rd Qu.:0.0000000      3rd Qu.:0                     \n",
       " Max.   :0.1000000      Max.   :0                     \n",
       " superior_occipital_gyrus_left lat_occtemp_gyrus_rt entorhinal_cortex_right\n",
       " Min.   :0.000000              Min.   :0.0000000    Min.   :0.000000       \n",
       " 1st Qu.:0.000000              1st Qu.:0.0000000    1st Qu.:0.000000       \n",
       " Median :0.000000              Median :0.0000000    Median :0.000000       \n",
       " Mean   :0.001354              Mean   :0.0008553    Mean   :0.002138       \n",
       " 3rd Qu.:0.000000              3rd Qu.:0.0000000    3rd Qu.:0.000000       \n",
       " Max.   :0.500000              Max.   :0.9000000    Max.   :0.400000       \n",
       " hippocampal_formation_left thalamus_left      parietal_lobe_WM_right\n",
       " Min.   :0.00000            Min.   :0.000000   Min.   : 0.0000       \n",
       " 1st Qu.:0.00000            1st Qu.:0.000000   1st Qu.: 0.1000       \n",
       " Median :0.00000            Median :0.000000   Median : 0.3000       \n",
       " Mean   :0.00335            Mean   :0.004704   Mean   : 0.8966       \n",
       " 3rd Qu.:0.00000            3rd Qu.:0.000000   3rd Qu.: 1.0000       \n",
       " Max.   :0.30000            Max.   :0.500000   Max.   :13.2000       \n",
       "  insula_left      postcentral_gyrus_right lingual_gyrus_right\n",
       " Min.   :0.00000   Min.   :0.000000        Min.   :0.000000   \n",
       " 1st Qu.:0.00000   1st Qu.:0.000000        1st Qu.:0.000000   \n",
       " Median :0.00000   Median :0.000000        Median :0.000000   \n",
       " Mean   :0.01568   Mean   :0.006486        Mean   :0.004348   \n",
       " 3rd Qu.:0.00000   3rd Qu.:0.000000        3rd Qu.:0.000000   \n",
       " Max.   :0.90000   Max.   :0.500000        Max.   :0.300000   \n",
       " medial_frontal_gyrus_right amygdala_left       med_occtempl_gyrus_lt\n",
       " Min.   :0.000000           Min.   :0.0000000   Min.   :0.000000     \n",
       " 1st Qu.:0.000000           1st Qu.:0.0000000   1st Qu.:0.000000     \n",
       " Median :0.000000           Median :0.0000000   Median :0.000000     \n",
       " Mean   :0.002423           Mean   :0.0009266   Mean   :0.004419     \n",
       " 3rd Qu.:0.000000           3rd Qu.:0.0000000   3rd Qu.:0.000000     \n",
       " Max.   :0.600000           Max.   :0.2000000   Max.   :0.900000     \n",
       " parahippocampal_gyrus_right ant_lmb_int_cap_rt middle_temporal_gyrus_right\n",
       " Min.   :0.0000000           Min.   :0.00000    Min.   :0.000000           \n",
       " 1st Qu.:0.0000000           1st Qu.:0.00000    1st Qu.:0.000000           \n",
       " Median :0.0000000           Median :0.00000    Median :0.000000           \n",
       " Mean   :0.0001425           Mean   :0.00392    Mean   :0.005203           \n",
       " 3rd Qu.:0.0000000           3rd Qu.:0.00000    3rd Qu.:0.000000           \n",
       " Max.   :0.2000000           Max.   :1.00000    Max.   :1.200000           \n",
       " ccipital_pole_right corpus_callosum  amygdala_right    \n",
       " Min.   :0.0000000   Min.   :0.0000   Min.   :0.000000  \n",
       " 1st Qu.:0.0000000   1st Qu.:0.0000   1st Qu.:0.000000  \n",
       " Median :0.0000000   Median :0.1000   Median :0.000000  \n",
       " Mean   :0.0006415   Mean   :0.1837   Mean   :0.001639  \n",
       " 3rd Qu.:0.0000000   3rd Qu.:0.3000   3rd Qu.:0.000000  \n",
       " Max.   :0.2000000   Max.   :2.4000   Max.   :0.300000  \n",
       " inferior_temporal_gyrus_right superior_temporal_gyrus_right\n",
       " Min.   :0.0000000             Min.   :0.000000             \n",
       " 1st Qu.:0.0000000             1st Qu.:0.000000             \n",
       " Median :0.0000000             Median :0.000000             \n",
       " Mean   :0.0004989             Mean   :0.006415             \n",
       " 3rd Qu.:0.0000000             3rd Qu.:0.000000             \n",
       " Max.   :0.3000000             Max.   :1.000000             \n",
       " middle_occipital_gyrus_left angular_gyrus_left med_occtemp_gyrus_rt\n",
       " Min.   :0.000000            Min.   :0.00000    Min.   :0.000000    \n",
       " 1st Qu.:0.000000            1st Qu.:0.00000    1st Qu.:0.000000    \n",
       " Median :0.000000            Median :0.00000    Median :0.000000    \n",
       " Mean   :0.004348            Mean   :0.01967    Mean   :0.003136    \n",
       " 3rd Qu.:0.000000            3rd Qu.:0.00000    3rd Qu.:0.000000    \n",
       " Max.   :1.000000            Max.   :1.60000    Max.   :0.200000    \n",
       "  cuneus_right     lat_occtemp_gyrus_lt thalamus_right     occipital_pole_left\n",
       " Min.   :0.00000   Min.   :0.000000     Min.   :0.000000   Min.   :0.000000   \n",
       " 1st Qu.:0.00000   1st Qu.:0.000000     1st Qu.:0.000000   1st Qu.:0.000000   \n",
       " Median :0.00000   Median :0.000000     Median :0.000000   Median :0.000000   \n",
       " Mean   :0.01183   Mean   :0.001996     Mean   :0.005132   Mean   :0.001639   \n",
       " 3rd Qu.:0.00000   3rd Qu.:0.000000     3rd Qu.:0.000000   3rd Qu.:0.000000   \n",
       " Max.   :0.90000   Max.   :1.300000     Max.   :1.300000   Max.   :0.700000   \n",
       "  fornix_right      \n",
       " Min.   :0.0000000  \n",
       " 1st Qu.:0.0000000  \n",
       " Median :0.0000000  \n",
       " Mean   :0.0002851  \n",
       " 3rd Qu.:0.0000000  \n",
       " Max.   :0.1000000  "
      ]
     },
     "metadata": {},
     "output_type": "display_data"
    }
   ],
   "source": [
    "summary(MRI.abnormal)"
   ]
  },
  {
   "cell_type": "code",
   "execution_count": 20,
   "metadata": {
    "collapsed": false
   },
   "outputs": [
    {
     "data": {
      "text/plain": [
       "       id             mri_dy     medial_front_orbital_gyrus_right\n",
       " Min.   :100038   Min.   :2350   Min.   :0.700                   \n",
       " 1st Qu.:154706   1st Qu.:2767   1st Qu.:2.000                   \n",
       " Median :201786   Median :2930   Median :2.200                   \n",
       " Mean   :201750   Mean   :2923   Mean   :2.259                   \n",
       " 3rd Qu.:249747   3rd Qu.:3066   3rd Qu.:2.500                   \n",
       " Max.   :299760   Max.   :3726   Max.   :4.400                   \n",
       " middle_frontal_gyrus_right lateral_ventricle_left  insula_right   \n",
       " Min.   : 5.50              Min.   : 3.80          Min.   : 2.000  \n",
       " 1st Qu.:12.40              1st Qu.:13.75          1st Qu.: 5.300  \n",
       " Median :14.10              Median :18.30          Median : 5.900  \n",
       " Mean   :14.01              Mean   :20.00          Mean   : 6.008  \n",
       " 3rd Qu.:15.70              3rd Qu.:24.20          3rd Qu.: 6.500  \n",
       " Max.   :22.20              Max.   :86.10          Max.   :12.500  \n",
       " precentral_gyrus_right lateral_front_orbital_gyrus_rt cingulate_region_right\n",
       " Min.   : 5.80          Min.   : 4.30                  Min.   : 2.700        \n",
       " 1st Qu.: 9.15          1st Qu.: 7.70                  1st Qu.: 6.800        \n",
       " Median :10.30          Median : 8.40                  Median : 7.800        \n",
       " Mean   :10.34          Mean   : 8.46                  Mean   : 7.812        \n",
       " 3rd Qu.:11.40          3rd Qu.: 9.20                  3rd Qu.: 8.700        \n",
       " Max.   :19.10          Max.   :13.50                  Max.   :15.800        \n",
       " lateral_ventricle_right medial_frontal_gyrus_left superior_frontal_gyrus_right\n",
       " Min.   : 3.20           Min.   : 3.200            Min.   : 2.400              \n",
       " 1st Qu.:11.65           1st Qu.: 7.600            1st Qu.: 5.500              \n",
       " Median :15.60           Median : 8.700            Median : 6.800              \n",
       " Mean   :17.11           Mean   : 8.666            Mean   : 6.716              \n",
       " 3rd Qu.:20.80           3rd Qu.: 9.700            3rd Qu.: 7.800              \n",
       " Max.   :64.80           Max.   :16.200            Max.   :12.700              \n",
       " globus_palladus_right globus_palladus_left  putamen_left \n",
       " Min.   :0.400         Min.   :0.2000       Min.   :1.20  \n",
       " 1st Qu.:0.900         1st Qu.:0.7000       1st Qu.:3.10  \n",
       " Median :1.000         Median :0.8000       Median :3.40  \n",
       " Mean   :1.039         Mean   :0.8493       Mean   :3.44  \n",
       " 3rd Qu.:1.200         3rd Qu.:1.0000       3rd Qu.:3.80  \n",
       " Max.   :2.100         Max.   :1.7000       Max.   :5.90  \n",
       " inferior_frontal_gyrus_left putamen_right   frontal_lobe_WM_right\n",
       " Min.   : 3.800              Min.   :1.900   Min.   : 42.00       \n",
       " 1st Qu.: 8.600              1st Qu.:3.150   1st Qu.: 73.95       \n",
       " Median : 9.700              Median :3.500   Median : 81.70       \n",
       " Mean   : 9.641              Mean   :3.477   Mean   : 82.40       \n",
       " 3rd Qu.:10.650              3rd Qu.:3.800   3rd Qu.: 90.10       \n",
       " Max.   :17.100              Max.   :5.800   Max.   :130.20       \n",
       " parahippocampal_gyrus_left angular_gyrus_right temporal_pole_right\n",
       " Min.   :0.40               Min.   : 1.700      Min.   :0.700      \n",
       " 1st Qu.:1.20               1st Qu.: 6.300      1st Qu.:2.300      \n",
       " Median :1.30               Median : 7.300      Median :2.700      \n",
       " Mean   :1.31               Mean   : 7.314      Mean   :2.747      \n",
       " 3rd Qu.:1.40               3rd Qu.: 8.400      3rd Qu.:3.100      \n",
       " Max.   :2.10               Max.   :13.500      Max.   :5.400      \n",
       " subthalamic_nucleus_right nucleus_accumbens_right  uncus_right    \n",
       " Min.   :0.00000           Min.   :0.2000          Min.   :0.2000  \n",
       " 1st Qu.:0.10000           1st Qu.:0.3000          1st Qu.:0.5000  \n",
       " Median :0.10000           Median :0.4000          Median :0.6000  \n",
       " Mean   :0.08966           Mean   :0.4115          Mean   :0.6153  \n",
       " 3rd Qu.:0.10000           3rd Qu.:0.5000          3rd Qu.:0.7000  \n",
       " Max.   :0.20000           Max.   :0.8000          Max.   :1.3000  \n",
       " cingulate_region_left  fornix_left     frontal_lobe_WM_left precuneus_right\n",
       " Min.   : 5.10         Min.   :0.0000   Min.   : 42.4        Min.   :0.500  \n",
       " 1st Qu.: 8.30         1st Qu.:0.3000   1st Qu.: 71.6        1st Qu.:1.500  \n",
       " Median : 9.40         Median :0.3000   Median : 78.7        Median :1.800  \n",
       " Mean   : 9.45         Mean   :0.3193   Mean   : 79.7        Mean   :1.805  \n",
       " 3rd Qu.:10.40         3rd Qu.:0.4000   3rd Qu.: 87.1        3rd Qu.:2.100  \n",
       " Max.   :17.00         Max.   :0.6000   Max.   :127.3        Max.   :4.500  \n",
       " subthalamic_nucleus_left pst_lmb_int_cap_cere_pedunc_lt\n",
       " Min.   :0.00000          Min.   :0.800                 \n",
       " 1st Qu.:0.10000          1st Qu.:1.600                 \n",
       " Median :0.10000          Median :1.700                 \n",
       " Mean   :0.08147          Mean   :1.755                 \n",
       " 3rd Qu.:0.10000          3rd Qu.:1.900                 \n",
       " Max.   :0.20000          Max.   :3.400                 \n",
       " pst_lmb_int_cap_cere_pedunc_rt hippocampal_formation_right\n",
       " Min.   :0.600                  Min.   :0.300              \n",
       " 1st Qu.:1.600                  1st Qu.:2.300              \n",
       " Median :1.800                  Median :2.700              \n",
       " Mean   :1.839                  Mean   :2.688              \n",
       " 3rd Qu.:2.000                  3rd Qu.:3.100              \n",
       " Max.   :3.200                  Max.   :4.600              \n",
       " inferior_occipital_gyrus_left superior_occipital_gyrus_right\n",
       " Min.   :1.200                 Min.   :1.700                 \n",
       " 1st Qu.:2.400                 1st Qu.:3.700                 \n",
       " Median :2.900                 Median :4.300                 \n",
       " Mean   :2.934                 Mean   :4.355                 \n",
       " 3rd Qu.:3.400                 3rd Qu.:4.900                 \n",
       " Max.   :5.800                 Max.   :7.500                 \n",
       " caudate_nucleus_left supramarginal_gyrus_left ant_lmb_of_int_cap_lt\n",
       " Min.   :1.200        Min.   :1.600            Min.   :0.400        \n",
       " 1st Qu.:3.000        1st Qu.:3.600            1st Qu.:3.300        \n",
       " Median :3.300        Median :4.400            Median :3.900        \n",
       " Mean   :3.303        Mean   :4.458            Mean   :3.782        \n",
       " 3rd Qu.:3.600        3rd Qu.:5.200            3rd Qu.:4.300        \n",
       " Max.   :6.100        Max.   :9.200            Max.   :6.200        \n",
       " occipital_lobe_WM_right middle_frontal_gyrus_left\n",
       " Min.   : 5.30           Min.   : 5.40            \n",
       " 1st Qu.:21.00           1st Qu.:12.70            \n",
       " Median :23.60           Median :14.60            \n",
       " Mean   :24.03           Mean   :14.46            \n",
       " 3rd Qu.:26.50           3rd Qu.:16.40            \n",
       " Max.   :51.10           Max.   :25.20            \n",
       " superior_parietal_lobule_left caudate_nucleus_right  cuneus_left   \n",
       " Min.   : 2.00                 Min.   :0.800         Min.   :0.800  \n",
       " 1st Qu.: 9.35                 1st Qu.:2.700         1st Qu.:1.800  \n",
       " Median :11.00                 Median :2.900         Median :2.100  \n",
       " Mean   :10.90                 Mean   :2.911         Mean   :2.202  \n",
       " 3rd Qu.:12.50                 3rd Qu.:3.200         3rd Qu.:2.500  \n",
       " Max.   :18.10                 Max.   :4.700         Max.   :6.300  \n",
       " precuneus_left  parietal_lobe_WM_left temporal_lobe_WM_right\n",
       " Min.   :0.500   Min.   :25.3          Min.   :28.5          \n",
       " 1st Qu.:1.400   1st Qu.:41.8          1st Qu.:43.4          \n",
       " Median :1.700   Median :46.5          Median :47.5          \n",
       " Mean   :1.737   Mean   :46.8          Mean   :47.9          \n",
       " 3rd Qu.:2.000   3rd Qu.:51.3          3rd Qu.:51.8          \n",
       " Max.   :3.500   Max.   :71.7          Max.   :77.1          \n",
       " supramarginal_gyrus_right superior_temporal_gyrus_left   uncus_left    \n",
       " Min.   :0.700             Min.   : 3.90                Min.   :0.2000  \n",
       " 1st Qu.:2.400             1st Qu.:10.60                1st Qu.:0.7000  \n",
       " Median :2.800             Median :11.90                Median :0.8000  \n",
       " Mean   :2.821             Mean   :11.87                Mean   :0.8234  \n",
       " 3rd Qu.:3.200             3rd Qu.:13.10                3rd Qu.:0.9000  \n",
       " Max.   :5.100             Max.   :20.80                Max.   :1.4000  \n",
       " middle_occipital_gyrus_right middle_temporal_gyrus_left lingual_gyrus_left\n",
       " Min.   :1.20                 Min.   : 4.90              Min.   :0.800     \n",
       " 1st Qu.:3.20                 1st Qu.:10.60              1st Qu.:1.900     \n",
       " Median :3.80                 Median :12.10              Median :2.200     \n",
       " Mean   :3.84                 Mean   :12.02              Mean   :2.237     \n",
       " 3rd Qu.:4.40                 3rd Qu.:13.50              3rd Qu.:2.600     \n",
       " Max.   :7.70                 Max.   :19.90              Max.   :5.300     \n",
       " superior_frontal_gyrus_left nucleus_accumbens_left occipital_lobe_WM_left\n",
       " Min.   : 2.100              Min.   :0.100          Min.   : 1.30         \n",
       " 1st Qu.: 5.400              1st Qu.:0.300          1st Qu.:20.80         \n",
       " Median : 6.900              Median :0.300          Median :23.40         \n",
       " Mean   : 6.816              Mean   :0.317          Mean   :23.91         \n",
       " 3rd Qu.: 8.200              3rd Qu.:0.400          3rd Qu.:26.50         \n",
       " Max.   :12.400              Max.   :0.600          Max.   :51.10         \n",
       " postcentral_gyrus_left inferior_frontal_gyrus_right precentral_gyrus_left\n",
       " Min.   : 4.000         Min.   : 2.400               Min.   : 4.500       \n",
       " 1st Qu.: 8.700         1st Qu.: 7.300               1st Qu.: 7.900       \n",
       " Median : 9.700         Median : 8.400               Median : 8.700       \n",
       " Mean   : 9.811         Mean   : 8.415               Mean   : 8.873       \n",
       " 3rd Qu.:10.800         3rd Qu.: 9.500               3rd Qu.: 9.700       \n",
       " Max.   :16.300         Max.   :14.000               Max.   :16.900       \n",
       " temporal_lobe_WM_left medial_front_orbital_gyrus_left perirhinal_cortex_right\n",
       " Min.   :28.3          Min.   :0.500                   Min.   :0.300          \n",
       " 1st Qu.:43.5          1st Qu.:1.500                   1st Qu.:0.900          \n",
       " Median :47.6          Median :1.800                   Median :1.000          \n",
       " Mean   :47.9          Mean   :1.776                   Mean   :1.032          \n",
       " 3rd Qu.:51.7          3rd Qu.:2.000                   3rd Qu.:1.200          \n",
       " Max.   :72.8          Max.   :3.800                   Max.   :2.100          \n",
       " superior_parietal_lobule_right lateral_front_orbital_gyrus_left\n",
       " Min.   : 3.00                  Min.   : 3.500                  \n",
       " 1st Qu.: 9.60                  1st Qu.: 7.500                  \n",
       " Median :11.20                  Median : 8.300                  \n",
       " Mean   :11.15                  Mean   : 8.273                  \n",
       " 3rd Qu.:12.70                  3rd Qu.: 9.000                  \n",
       " Max.   :18.90                  Max.   :13.600                  \n",
       " perirhinal_cortex_left inferior_temporal_gyrus_left temporal_pole_left\n",
       " Min.   :0.400          Min.   : 3.200               Min.   :0.400     \n",
       " 1st Qu.:1.100          1st Qu.: 5.900               1st Qu.:1.700     \n",
       " Median :1.300          Median : 6.600               Median :2.000     \n",
       " Mean   :1.329          Mean   : 6.689               Mean   :2.021     \n",
       " 3rd Qu.:1.600          3rd Qu.: 7.400               3rd Qu.:2.300     \n",
       " Max.   :3.700          Max.   :11.800               Max.   :5.900     \n",
       " entorhinal_cortex_left inferior_occipital_gyrus_right\n",
       " Min.   :0.2000         Min.   :0.200                 \n",
       " 1st Qu.:0.6000         1st Qu.:0.900                 \n",
       " Median :0.7000         Median :1.100                 \n",
       " Mean   :0.7339         Mean   :1.135                 \n",
       " 3rd Qu.:0.8000         3rd Qu.:1.300                 \n",
       " Max.   :1.4000         Max.   :2.700                 \n",
       " superior_occipital_gyrus_left lat_occtemp_gyrus_rt entorhinal_cortex_right\n",
       " Min.   :1.300                 Min.   : 2.200       Min.   :0.40           \n",
       " 1st Qu.:3.100                 1st Qu.: 6.200       1st Qu.:1.05           \n",
       " Median :3.600                 Median : 6.900       Median :1.20           \n",
       " Mean   :3.715                 Mean   : 6.952       Mean   :1.21           \n",
       " 3rd Qu.:4.200                 3rd Qu.: 7.600       3rd Qu.:1.30           \n",
       " Max.   :7.200                 Max.   :11.000       Max.   :2.30           \n",
       " hippocampal_formation_left thalamus_left   parietal_lobe_WM_right\n",
       " Min.   :0.400              Min.   :1.700   Min.   :20.90         \n",
       " 1st Qu.:2.700              1st Qu.:2.900   1st Qu.:37.40         \n",
       " Median :3.100              Median :3.400   Median :41.50         \n",
       " Mean   :3.044              Mean   :3.675   Mean   :41.85         \n",
       " 3rd Qu.:3.400              3rd Qu.:4.100   3rd Qu.:45.90         \n",
       " Max.   :5.200              Max.   :7.800   Max.   :65.60         \n",
       "  insula_left     postcentral_gyrus_right lingual_gyrus_right\n",
       " Min.   : 1.000   Min.   : 2.600          Min.   :0.800      \n",
       " 1st Qu.: 5.300   1st Qu.: 6.100          1st Qu.:1.900      \n",
       " Median : 6.000   Median : 6.800          Median :2.200      \n",
       " Mean   : 5.947   Mean   : 6.939          Mean   :2.251      \n",
       " 3rd Qu.: 6.700   3rd Qu.: 7.700          3rd Qu.:2.600      \n",
       " Max.   :10.900   Max.   :13.000          Max.   :8.100      \n",
       " medial_frontal_gyrus_right amygdala_left    med_occtempl_gyrus_lt\n",
       " Min.   : 3.500             Min.   :0.1000   Min.   :1.900        \n",
       " 1st Qu.: 8.500             1st Qu.:0.5000   1st Qu.:4.200        \n",
       " Median : 9.700             Median :0.6000   Median :4.800        \n",
       " Mean   : 9.631             Mean   :0.5914   Mean   :4.888        \n",
       " 3rd Qu.:10.700             3rd Qu.:0.7000   3rd Qu.:5.400        \n",
       " Max.   :16.700             Max.   :1.2000   Max.   :9.300        \n",
       " parahippocampal_gyrus_right ant_lmb_int_cap_rt middle_temporal_gyrus_right\n",
       " Min.   :0.900               Min.   :0.300      Min.   : 5.10              \n",
       " 1st Qu.:1.500               1st Qu.:2.800      1st Qu.:14.90              \n",
       " Median :1.700               Median :3.200      Median :16.80              \n",
       " Mean   :1.678               Mean   :3.153      Mean   :16.77              \n",
       " 3rd Qu.:1.800               3rd Qu.:3.600      3rd Qu.:18.70              \n",
       " Max.   :3.100               Max.   :6.300      Max.   :25.90              \n",
       " occipital_pole_right corpus_callosum  amygdala_right\n",
       " Min.   :0.600        Min.   : 2.700   Min.   :0.10  \n",
       " 1st Qu.:1.900        1st Qu.: 8.300   1st Qu.:1.10  \n",
       " Median :2.300        Median : 9.100   Median :1.30  \n",
       " Mean   :2.312        Mean   : 9.159   Mean   :1.29  \n",
       " 3rd Qu.:2.600        3rd Qu.:10.000   3rd Qu.:1.50  \n",
       " Max.   :5.200        Max.   :13.200   Max.   :3.40  \n",
       " inferior_temporal_gyrus_right superior_temporal_gyrus_right\n",
       " Min.   :2.300                 Min.   : 3.30                \n",
       " 1st Qu.:5.000                 1st Qu.: 9.30                \n",
       " Median :5.700                 Median :10.50                \n",
       " Mean   :5.714                 Mean   :10.46                \n",
       " 3rd Qu.:6.300                 3rd Qu.:11.70                \n",
       " Max.   :9.700                 Max.   :16.90                \n",
       " middle_occipital_gyrus_left angular_gyrus_left med_occtemp_gyrus_rt\n",
       " Min.   :0.900               Min.   : 1.100     Min.   :2.300       \n",
       " 1st Qu.:2.500               1st Qu.: 4.300     1st Qu.:4.600       \n",
       " Median :3.100               Median : 5.300     Median :5.100       \n",
       " Mean   :3.117               Mean   : 5.293     Mean   :5.206       \n",
       " 3rd Qu.:3.700               3rd Qu.: 6.300     3rd Qu.:5.800       \n",
       " Max.   :6.700               Max.   :10.900     Max.   :8.600       \n",
       "  cuneus_right   lat_occtemp_gyrus_lt thalamus_right  occipital_pole_left\n",
       " Min.   :1.000   Min.   : 3.200       Min.   :3.100   Min.   :1.10       \n",
       " 1st Qu.:2.100   1st Qu.: 7.200       1st Qu.:4.600   1st Qu.:1.90       \n",
       " Median :2.400   Median : 8.100       Median :5.000   Median :2.20       \n",
       " Mean   :2.512   Mean   : 8.194       Mean   :5.168   Mean   :2.33       \n",
       " 3rd Qu.:2.900   3rd Qu.: 9.100       3rd Qu.:5.500   3rd Qu.:2.70       \n",
       " Max.   :5.900   Max.   :12.800       Max.   :8.400   Max.   :6.30       \n",
       "  fornix_right         icv        \n",
       " Min.   :0.0000   Min.   : 632.6  \n",
       " 1st Qu.:0.2000   1st Qu.:1023.2  \n",
       " Median :0.2000   Median :1080.8  \n",
       " Mean   :0.2014   Mean   :1089.9  \n",
       " 3rd Qu.:0.2000   3rd Qu.:1152.4  \n",
       " Max.   :0.4000   Max.   :1415.1  "
      ]
     },
     "metadata": {},
     "output_type": "display_data"
    }
   ],
   "source": [
    "summary(MRI.regional)"
   ]
  },
  {
   "cell_type": "code",
   "execution_count": 62,
   "metadata": {
    "collapsed": false
   },
   "outputs": [
    {
     "data": {
      "text/html": [
       "3409.6"
      ],
      "text/latex": [
       "3409.6"
      ],
      "text/markdown": [
       "3409.6"
      ],
      "text/plain": [
       "[1] 3409.6"
      ]
     },
     "metadata": {},
     "output_type": "display_data"
    },
    {
     "data": {
      "text/html": [
       "1092.557373"
      ],
      "text/latex": [
       "1092.557373"
      ],
      "text/markdown": [
       "1092.557373"
      ],
      "text/plain": [
       "[1] 1092.557"
      ]
     },
     "metadata": {},
     "output_type": "display_data"
    }
   ],
   "source": [
    "sum(MRI.regional[1,][2:95])\n",
    "MRI.regional[1,96]"
   ]
  },
  {
   "cell_type": "markdown",
   "metadata": {},
   "source": [
    "## Overlap between MRI and WHISE data yields 519 patients"
   ]
  },
  {
   "cell_type": "code",
   "execution_count": 53,
   "metadata": {
    "collapsed": false
   },
   "outputs": [],
   "source": [
    "library(dplyr)\n",
    "library(ggplot2)"
   ]
  },
  {
   "cell_type": "code",
   "execution_count": 24,
   "metadata": {
    "collapsed": false
   },
   "outputs": [
    {
     "data": {
      "text/html": [
       "1403"
      ],
      "text/latex": [
       "1403"
      ],
      "text/markdown": [
       "1403"
      ],
      "text/plain": [
       "[1] 1403"
      ]
     },
     "metadata": {},
     "output_type": "display_data"
    }
   ],
   "source": [
    "sum(MRI.regional$mri_dy == MRI.abnormal$mri_dy)"
   ]
  },
  {
   "cell_type": "code",
   "execution_count": 37,
   "metadata": {
    "collapsed": false
   },
   "outputs": [],
   "source": [
    "data.merged <- left_join(MRI.regional, MRI.abnormal, by=c('id')) %>%\n",
    "    inner_join(WHISE, by=c('id'='COMMON_ID'))"
   ]
  },
  {
   "cell_type": "code",
   "execution_count": 38,
   "metadata": {
    "collapsed": false
   },
   "outputs": [
    {
     "data": {
      "text/html": [
       "<ol class=list-inline>\n",
       "\t<li>519</li>\n",
       "\t<li>381</li>\n",
       "</ol>\n"
      ],
      "text/latex": [
       "\\begin{enumerate*}\n",
       "\\item 519\n",
       "\\item 381\n",
       "\\end{enumerate*}\n"
      ],
      "text/markdown": [
       "1. 519\n",
       "2. 381\n",
       "\n",
       "\n"
      ],
      "text/plain": [
       "[1] 519 381"
      ]
     },
     "metadata": {},
     "output_type": "display_data"
    }
   ],
   "source": [
    "dim(data.merged)"
   ]
  },
  {
   "cell_type": "markdown",
   "metadata": {},
   "source": [
    "## Construct/find indicator variables for patients that have retionpathy, are diabetic, have large cup to disk ratio"
   ]
  },
  {
   "cell_type": "code",
   "execution_count": 39,
   "metadata": {
    "collapsed": false
   },
   "outputs": [
    {
     "data": {
      "text/html": [
       "<ol class=list-inline>\n",
       "\t<li>10</li>\n",
       "\t<li>12</li>\n",
       "\t<li>15</li>\n",
       "\t<li>90</li>\n",
       "\t<li>13</li>\n",
       "\t<li>65</li>\n",
       "\t<li>20</li>\n",
       "\t<li>31</li>\n",
       "</ol>\n"
      ],
      "text/latex": [
       "\\begin{enumerate*}\n",
       "\\item 10\n",
       "\\item 12\n",
       "\\item 15\n",
       "\\item 90\n",
       "\\item 13\n",
       "\\item 65\n",
       "\\item 20\n",
       "\\item 31\n",
       "\\end{enumerate*}\n"
      ],
      "text/markdown": [
       "1. 10\n",
       "2. 12\n",
       "3. 15\n",
       "4. 90\n",
       "5. 13\n",
       "6. 65\n",
       "7. 20\n",
       "8. 31\n",
       "\n",
       "\n"
      ],
      "text/plain": [
       "[1] 10 12 15 90 13 65 20 31"
      ]
     },
     "metadata": {},
     "output_type": "display_data"
    }
   ],
   "source": [
    "unique(data.merged$diabetic_retinopathy_level_l)"
   ]
  },
  {
   "cell_type": "markdown",
   "metadata": {},
   "source": [
    "| code | meaning     |\n",
    "|------|-------------|\n",
    "| 10 | absent        |\n",
    "| 12 | non-diabetic |\n",
    "| 13 | questionable  |\n",
    "| 14 | HE, SE, IRMA, without microaneurysms |\n",
    "| 15 | Hem only with no microaneurysms |\n",
    "| 20 | microaneurysm only |\n",
    "| 31 |  Mild NPDR |\n",
    "| 37 | Mild to Moderate NPDR |\n",
    "| 43 | Moderate NPDR |\n",
    "| 47 | Moderately Severe NPDR |\n",
    "| 53 | Severe NPDR |\n",
    "| 60 | Fibrous proliferation only |\n",
    "| 61 | no retionapthy, with treatment |\n",
    "| 62 |  MAs only with treatment |\n",
    "| 63 | Mild NPDR, with treatment |\n",
    "| 64 | Moderate to Severe NPDR, with treatment |\n",
    "| 65 | moderate PDR |\n",
    "| 71 | DRS HRC |\n",
    "| 75 | Severe DRS HRC |\n",
    "| 81 | Advanced PDR |\n",
    "| 85 | End stage PDR |\n",
    "| 90 | Canont grade |"
   ]
  },
  {
   "cell_type": "code",
   "execution_count": 48,
   "metadata": {
    "collapsed": false
   },
   "outputs": [
    {
     "data": {
      "text/html": [
       "82"
      ],
      "text/latex": [
       "82"
      ],
      "text/markdown": [
       "82"
      ],
      "text/plain": [
       "[1] 82"
      ]
     },
     "metadata": {},
     "output_type": "display_data"
    }
   ],
   "source": [
    "sum(!data.merged$diabetic_retinopathy_level_l %in% c(10, 13, 61, 90) | !data.merged$diabetic_retinopathy_level_r %in% c(10, 13, 61, 90))"
   ]
  },
  {
   "cell_type": "markdown",
   "metadata": {},
   "source": [
    "## large cup to disk ratio in the 519 patients"
   ]
  },
  {
   "cell_type": "markdown",
   "metadata": {},
   "source": [
    "| Code | meaning |\n",
    "|------|---------|\n",
    "| 0    | None    |\n",
    "| 1    | Questionable |\n",
    "| 2    | Present      |\n",
    "| 8    | Cannot grade |\n",
    "| 9    | Do not know  |"
   ]
  },
  {
   "cell_type": "code",
   "execution_count": 54,
   "metadata": {
    "collapsed": false
   },
   "outputs": [
    {
     "name": "stderr",
     "output_type": "stream",
     "text": [
      "`stat_bin()` using `bins = 30`. Pick better value with `binwidth`.\n"
     ]
    },
    {
     "data": {},
     "metadata": {},
     "output_type": "display_data"
    },
    {
     "data": {
      "image/png": "[encoded data removed]",
      "text/plain": [
       "plot without title"
      ]
     },
     "metadata": {},
     "output_type": "display_data"
    }
   ],
   "source": [
    "ggplot() +\n",
    "    geom_histogram(aes(x=data.merged$large_c_d_ratio_l))"
   ]
  },
  {
   "cell_type": "code",
   "execution_count": 58,
   "metadata": {
    "collapsed": false
   },
   "outputs": [
    {
     "data": {
      "text/html": [
       "12"
      ],
      "text/latex": [
       "12"
      ],
      "text/markdown": [
       "12"
      ],
      "text/plain": [
       "[1] 12"
      ]
     },
     "metadata": {},
     "output_type": "display_data"
    },
    {
     "data": {
      "text/html": [
       "482"
      ],
      "text/latex": [
       "482"
      ],
      "text/markdown": [
       "482"
      ],
      "text/plain": [
       "[1] 482"
      ]
     },
     "metadata": {},
     "output_type": "display_data"
    }
   ],
   "source": [
    "sum(data.merged$large_c_d_ratio_l == 2)\n",
    "sum(data.merged$large_c_d_ratio_l == 0)"
   ]
  },
  {
   "cell_type": "code",
   "execution_count": 55,
   "metadata": {
    "collapsed": false
   },
   "outputs": [
    {
     "name": "stderr",
     "output_type": "stream",
     "text": [
      "`stat_bin()` using `bins = 30`. Pick better value with `binwidth`.\n"
     ]
    },
    {
     "data": {},
     "metadata": {},
     "output_type": "display_data"
    },
    {
     "data": {
      "image/png": "[encoded data removed]",
      "text/plain": [
       "plot without title"
      ]
     },
     "metadata": {},
     "output_type": "display_data"
    }
   ],
   "source": [
    "ggplot() +\n",
    "    geom_histogram(aes(x=data.merged$large_c_d_ratio_r))"
   ]
  },
  {
   "cell_type": "code",
   "execution_count": 59,
   "metadata": {
    "collapsed": false
   },
   "outputs": [
    {
     "data": {
      "text/html": [
       "10"
      ],
      "text/latex": [
       "10"
      ],
      "text/markdown": [
       "10"
      ],
      "text/plain": [
       "[1] 10"
      ]
     },
     "metadata": {},
     "output_type": "display_data"
    },
    {
     "data": {
      "text/html": [
       "496"
      ],
      "text/latex": [
       "496"
      ],
      "text/markdown": [
       "496"
      ],
      "text/plain": [
       "[1] 496"
      ]
     },
     "metadata": {},
     "output_type": "display_data"
    }
   ],
   "source": [
    "sum(data.merged$large_c_d_ratio_r == 2)\n",
    "sum(data.merged$large_c_d_ratio_r == 0)"
   ]
  }
 ],
 "metadata": {
  "anaconda-cloud": {},
  "kernelspec": {
   "display_name": "R",
   "language": "R",
   "name": "ir"
  },
  "language_info": {
   "codemirror_mode": "r",
   "file_extension": ".r",
   "mimetype": "text/x-r-source",
   "name": "R",
   "pygments_lexer": "r",
   "version": "3.3.2"
  }
 },
 "nbformat": 4,
 "nbformat_minor": 1
}
